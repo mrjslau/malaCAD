{
 "cells": [
  {
   "cell_type": "markdown",
   "metadata": {},
   "source": [
    "### import libraries"
   ]
  },
  {
   "cell_type": "code",
   "execution_count": 1,
   "metadata": {},
   "outputs": [],
   "source": [
    "import numpy as np\n",
    "import pandas as pd\n",
    "import os\n",
    "import glob\n",
    "\n",
    "import matplotlib.pyplot as plt\n",
    "import seaborn as sns\n",
    "\n",
    "import SimpleITK as sitk\n",
    "from tqdm import tqdm"
   ]
  },
  {
   "cell_type": "markdown",
   "metadata": {},
   "source": [
    "### read annotations.csv and candidates.csv"
   ]
  },
  {
   "cell_type": "code",
   "execution_count": 384,
   "metadata": {},
   "outputs": [],
   "source": [
    "data_path = './dataset/'\n",
    "TRAINDATA_LABELS_FILE = 'traindatalabels.txt'\n",
    "\n",
    "annot_df = pd.read_csv(data_path + 'CSVFILES/annotations.csv')\n",
    "cand_df = pd.read_csv(data_path + 'CSVFILES/candidates.csv')\n",
    "# candv2_df = pd.read_csv('./dataset/CSVFILES/candidates_V2.csv')"
   ]
  },
  {
   "cell_type": "markdown",
   "metadata": {},
   "source": [
    "### Annotations\n",
    "##### Columns:\n",
    "* seriesuid\n",
    "* coordX\n",
    "* coordY\n",
    "* coordZ\n",
    "* diameter_mm\n",
    "\n",
    "##### Samples:\n",
    "<b> 1186 </b> samples\n",
    "\n",
    "----\n",
    "----\n",
    "\n",
    "### Candidates\n",
    "##### Columns:\n",
    "* seriesuid\n",
    "* coordX\n",
    "* coordY\n",
    "* coordZ\n",
    "* class (0 or 1; 1 => cancer)\n",
    "\n",
    "#### Candidates vs Candidates_V2\n",
    "<b> 1351 </b> TP in candidates.csv \n",
    "|| candidates have <b> 551065 </b> samples\n",
    "\n",
    "\n",
    "<b> 1557 </b> TP in candidates_V2.csv \n",
    "|| candidates_V2 have <b> 754975 </b> samples"
   ]
  },
  {
   "cell_type": "markdown",
   "metadata": {},
   "source": [
    "### process CT scan"
   ]
  },
  {
   "cell_type": "code",
   "execution_count": 195,
   "metadata": {},
   "outputs": [],
   "source": [
    "class CT(object):\n",
    "    def __init__(self, filename = None, coordinates = None):\n",
    "        self.filename = filename\n",
    "        self.coordinates = coordinates\n",
    "        self.itk_img = None\n",
    "        self.img_arr = None\n",
    "        \n",
    "    # Read .mhd/.raw with SimpleITK\n",
    "    def read_mhd(self):\n",
    "        path = self.get_mhd_path()\n",
    "        self.itk_img = sitk.ReadImage(path[0])\n",
    "        self.img_arr = sitk.GetArrayFromImage(self.itk_img)\n",
    "         \n",
    "    def get_mhd_path(self):\n",
    "        return glob.glob(data_path + '*/' + self.filename + '.mhd')\n",
    "    \n",
    "    # Get voxel coordinates\n",
    "    def get_voxel(self):\n",
    "        origin = self.get_origin()\n",
    "        spacing = self.get_spacing()\n",
    "        coordinates = self.get_coordinates()\n",
    "        return tuple([np.absolute(coordinates[i] - origin[i]) / spacing[i] for i in range(3)])\n",
    "    \n",
    "    def get_coordinates(self):\n",
    "        return self.coordinates\n",
    "    \n",
    "    def get_origin(self):\n",
    "        return self.itk_img.GetOrigin()\n",
    "    \n",
    "    def get_spacing(self):\n",
    "        return self.itk_img.GetSpacing()\n",
    "    \n",
    "    def get_itk_img(self):\n",
    "        return self.itk_img\n",
    "    \n",
    "    def get_image_array(self):\n",
    "        return self.img_arr"
   ]
  },
  {
   "cell_type": "markdown",
   "metadata": {},
   "source": [
    "<b> Spacing </b><br> Pixel spacing is measured between the pixel centers <br> and can be different along each dimension\n",
    "\n",
    "<b> Origin </b><br> The image origin is associated with the coordinates <br> of the first pixel in the image\n",
    "\n",
    "<b> Voxel </b><br> Voxel coordinates ... <br> ..."
   ]
  },
  {
   "cell_type": "code",
   "execution_count": 209,
   "metadata": {},
   "outputs": [],
   "source": [
    "pos_ind = cand_df[cand_df['class'] == 1].index # 1351 positives\n",
    "neg_ind = cand_df[cand_df['class'] == 0].index # 549714 negatives"
   ]
  },
  {
   "cell_type": "markdown",
   "metadata": {},
   "source": [
    "<b> Test </b>"
   ]
  },
  {
   "cell_type": "code",
   "execution_count": 210,
   "metadata": {},
   "outputs": [],
   "source": [
    "# name = np.asarray(cand_df.iloc[neg_ind[600]])[0]\n",
    "# position = np.asarray(cand_df.iloc[neg_ind[600]][1:-1])\n",
    "\n",
    "# scan = CT(name, position)\n",
    "# scan.read_mhd()\n",
    "# print(scan.get_voxel())"
   ]
  },
  {
   "cell_type": "markdown",
   "metadata": {},
   "source": [
    "### undersample negative class"
   ]
  },
  {
   "cell_type": "code",
   "execution_count": 259,
   "metadata": {},
   "outputs": [],
   "source": [
    "neg_ind = np.random.choice(neg_ind, len(pos_ind) * 5 , replace = False)\n",
    "selected_cand_df = cand_df.iloc[list(pos_ind) + list(neg_ind)]"
   ]
  },
  {
   "cell_type": "code",
   "execution_count": 261,
   "metadata": {},
   "outputs": [
    {
     "name": "stdout",
     "output_type": "stream",
     "text": [
      "<class 'pandas.core.frame.DataFrame'>\n",
      "Int64Index: 8106 entries, 13 to 411819\n",
      "Data columns (total 5 columns):\n",
      " #   Column     Non-Null Count  Dtype  \n",
      "---  ------     --------------  -----  \n",
      " 0   seriesuid  8106 non-null   object \n",
      " 1   coordX     8106 non-null   float64\n",
      " 2   coordY     8106 non-null   float64\n",
      " 3   coordZ     8106 non-null   float64\n",
      " 4   class      8106 non-null   int64  \n",
      "dtypes: float64(3), int64(1), object(1)\n",
      "memory usage: 380.0+ KB\n"
     ]
    }
   ],
   "source": [
    "selected_cand_df.info()"
   ]
  },
  {
   "cell_type": "markdown",
   "metadata": {},
   "source": [
    "### split to train test val "
   ]
  },
  {
   "cell_type": "code",
   "execution_count": 262,
   "metadata": {},
   "outputs": [],
   "source": [
    "from sklearn.model_selection import train_test_split\n",
    "\n",
    "X = selected_cand_df.iloc[:, :-1]\n",
    "y = selected_cand_df.iloc[:, -1]\n",
    "\n",
    "X_train, X_test, y_train, y_test = train_test_split(X, y, test_size = 0.20)\n",
    "X_train, X_val, y_train, y_val = train_test_split(X_train, y_train, test_size = 0.20)"
   ]
  },
  {
   "cell_type": "markdown",
   "metadata": {},
   "source": [
    "<b> Serialize and save data </b>"
   ]
  },
  {
   "cell_type": "code",
   "execution_count": 263,
   "metadata": {},
   "outputs": [],
   "source": [
    "X_train.to_pickle('traindata')\n",
    "X_val.to_pickle('valdata')\n",
    "X_test.to_pickle('testdata')"
   ]
  },
  {
   "cell_type": "markdown",
   "metadata": {},
   "source": [
    "### get proportions"
   ]
  },
  {
   "cell_type": "code",
   "execution_count": 271,
   "metadata": {},
   "outputs": [
    {
     "name": "stdout",
     "output_type": "stream",
     "text": [
      "TRAINING DATA\n",
      "Total examples:  5187\n",
      "Total positives:  880\n",
      "16.97 %\n"
     ]
    }
   ],
   "source": [
    "print('TRAINING DATA')\n",
    "print('Total examples: ', len(y_train))\n",
    "print('Total positives: ', y_train.sum())\n",
    "print(format((y_train.sum() / len(y_train)) * 100, '.2f'), '%')"
   ]
  },
  {
   "cell_type": "markdown",
   "metadata": {},
   "source": [
    "### augment data set\n",
    "\n",
    "<b> Add all the true positive cases two more times </b>\n",
    "\n",
    "* DF use .set_index\n",
    "* Series use .reindex"
   ]
  },
  {
   "cell_type": "code",
   "execution_count": 322,
   "metadata": {
    "scrolled": true
   },
   "outputs": [],
   "source": [
    "# Augment X set ----------------------\n",
    "# 1 pass\n",
    "# take positives\n",
    "temp_df = X_train[y_train == 1]\n",
    "# reindex positives\n",
    "temp_df = temp_df.set_index(temp_df.index + 1000000)\n",
    "# add new positives\n",
    "X_train_new = X_train.append(temp_df)\n",
    "\n",
    "# 2 pass\n",
    "temp_df = X_train[y_train == 1]\n",
    "temp_df = temp_df.set_index(temp_df.index + 2000000)\n",
    "X_train_new = X_train_new.append(temp_df)\n",
    "\n",
    "\n",
    "# Augment y set ----------------------\n",
    "# 1 pass\n",
    "# take positives\n",
    "temp_df = X_train[y_train == 1]\n",
    "# reindex positives\n",
    "temp_df = y_train.reindex(temp_df.index + 1000000)\n",
    "# set all series values to 1\n",
    "temp_df.loc[:] = 1\n",
    "# add new positives\n",
    "y_train_new = y_train.append(temp_df)\n",
    "\n",
    "# 2 pass\n",
    "temp_df = X_train[y_train == 1]\n",
    "temp_df = y_train.reindex(temp_df.index + 2000000)\n",
    "temp_df.loc[:] = 1\n",
    "y_train_new = y_train_new.append(temp_df)"
   ]
  },
  {
   "cell_type": "markdown",
   "metadata": {},
   "source": [
    "-----"
   ]
  },
  {
   "cell_type": "markdown",
   "metadata": {},
   "source": [
    "### preprocess images"
   ]
  },
  {
   "cell_type": "code",
   "execution_count": 324,
   "metadata": {},
   "outputs": [],
   "source": [
    "from skimage.transform import resize\n",
    "from PIL import ImageEnhance\n",
    "\n",
    "class PreProcess(object):\n",
    "    def __init__(self, image = None):\n",
    "        self.image = image"
   ]
  },
  {
   "cell_type": "code",
   "execution_count": 330,
   "metadata": {},
   "outputs": [
    {
     "data": {
      "text/plain": [
       "<matplotlib.image.AxesImage at 0x1a4ba8ca90>"
      ]
     },
     "execution_count": 330,
     "metadata": {},
     "output_type": "execute_result"
    },
    {
     "data": {
      "image/png": "[encoded data removed]",
      "text/plain": [
       "<Figure size 360x360 with 1 Axes>"
      ]
     },
     "metadata": {
      "needs_background": "light"
     },
     "output_type": "display_data"
    }
   ],
   "source": [
    "from imageio import imread\n",
    "\n",
    "img_dir = './img/train/'\n",
    "plt.figure(figsize = (5, 5))\n",
    "img = imread(img_dir + 'image_' + str(30517) + '.jpg')\n",
    "plt.imshow(img, cmap='gray')"
   ]
  },
  {
   "cell_type": "markdown",
   "metadata": {},
   "source": [
    "----"
   ]
  },
  {
   "cell_type": "markdown",
   "metadata": {},
   "source": [
    "## CNN\n",
    "\n",
    "### load image data"
   ]
  },
  {
   "cell_type": "code",
   "execution_count": 385,
   "metadata": {},
   "outputs": [],
   "source": [
    "train_filenames = X_train_new.index.to_series().apply(lambda x:\n",
    "                                                      './img/train/image_' + str(x) + '.jpg')\n",
    "\n",
    "                                            # bytes string literal & integer\n",
    "traindata = np.zeros(filenames.size, dtype = [('var1', 'S36'), ('var2', int)])\n",
    "traindata['var1'] = train_filenames.values.astype(str)\n",
    "traindata['var2'] = y_train_new.values.astype(int)\n",
    "\n",
    "np.savetxt(TRAINDATA_LABELS_FILE, traindata, fmt=\"%10s %d\")"
   ]
  },
  {
   "cell_type": "markdown",
   "metadata": {},
   "source": [
    "### build h5py dataset    TODO"
   ]
  },
  {
   "cell_type": "code",
   "execution_count": 389,
   "metadata": {},
   "outputs": [],
   "source": [
    "import h5py\n",
    "\n",
    "# f = h5py.File('dataset.hdf5', 'w')"
   ]
  },
  {
   "cell_type": "code",
   "execution_count": 390,
   "metadata": {},
   "outputs": [],
   "source": [
    "# build_hdf5_image_dataset(dataset_file, image_shape=(50, 50),\n",
    "#                         mode='file', output_path='traindataset.h5',\n",
    "#                         categorical_labels=True, normalize=True)\n",
    "for file, label in traindata:\n",
    "    pass"
   ]
  },
  {
   "cell_type": "code",
   "execution_count": null,
   "metadata": {},
   "outputs": [],
   "source": []
  },
  {
   "cell_type": "markdown",
   "metadata": {},
   "source": [
    "### load h5py data"
   ]
  },
  {
   "cell_type": "code",
   "execution_count": 406,
   "metadata": {},
   "outputs": [],
   "source": [
    "import h5py\n",
    "\n",
    "h5_train = h5py.File('traindataset.h5', 'r')\n",
    "X_train_images = h5_train['X']\n",
    "y_train_labels = h5_train['Y']\n",
    "\n",
    "h5_val = h5py.File('traindataset.h5', 'r')\n",
    "X_val_images = h5_val['X']\n",
    "y_val_labels = h5_val['Y']"
   ]
  },
  {
   "cell_type": "markdown",
   "metadata": {},
   "source": [
    "### build cnn"
   ]
  },
  {
   "cell_type": "code",
   "execution_count": 407,
   "metadata": {},
   "outputs": [],
   "source": [
    "import tensorflow as tf\n",
    "from tensorflow.keras import datasets, layers, models, losses"
   ]
  },
  {
   "cell_type": "code",
   "execution_count": 408,
   "metadata": {},
   "outputs": [],
   "source": [
    "model = models.Sequential()\n",
    "model.add(layers.Conv2D(32, (3, 3), activation='relu', input_shape=(32, 32, 3)))\n",
    "model.add(layers.MaxPooling2D((2, 2)))\n",
    "model.add(layers.Conv2D(64, (3, 3), activation='relu'))\n",
    "model.add(layers.MaxPooling2D((2, 2)))\n",
    "model.add(layers.Conv2D(64, (3, 3), activation='relu'))\n",
    "model.add(layers.Flatten())\n",
    "model.add(layers.Dense(64, activation='relu'))\n",
    "model.add(layers.Dense(10))"
   ]
  },
  {
   "cell_type": "code",
   "execution_count": 409,
   "metadata": {},
   "outputs": [],
   "source": [
    "model.compile(optimizer='adam',\n",
    "              loss = losses.SparseCategoricalCrossentropy(from_logits=True),\n",
    "              metrics = ['accuracy'])"
   ]
  },
  {
   "cell_type": "code",
   "execution_count": 411,
   "metadata": {},
   "outputs": [],
   "source": [
    "import os\n",
    "\n",
    "os.environ['KMP_DUPLICATE_LIB_OK']='True'"
   ]
  },
  {
   "cell_type": "code",
   "execution_count": 412,
   "metadata": {},
   "outputs": [
    {
     "name": "stdout",
     "output_type": "stream",
     "text": [
      "WARNING:tensorflow:Falling back from v2 loop because of error: Failed to find data adapter that can handle input: <class 'h5py._hl.dataset.Dataset'>, <class 'NoneType'>\n"
     ]
    },
    {
     "ename": "ValueError",
     "evalue": "Error when checking input: expected conv2d_9_input to have 4 dimensions, but got array with shape (5187, 50, 50)",
     "output_type": "error",
     "traceback": [
      "\u001b[0;31m---------------------------------------------------------------------------\u001b[0m",
      "\u001b[0;31mValueError\u001b[0m                                Traceback (most recent call last)",
      "\u001b[0;32m<ipython-input-412-85a502957034>\u001b[0m in \u001b[0;36m<module>\u001b[0;34m\u001b[0m\n\u001b[1;32m      1\u001b[0m model.fit(X_train_images, y_train_labels, epochs = 2, \n\u001b[0;32m----> 2\u001b[0;31m           validation_data = (X_val_images, y_val_labels))\n\u001b[0m\u001b[1;32m      3\u001b[0m \u001b[0;34m\u001b[0m\u001b[0m\n\u001b[1;32m      4\u001b[0m \u001b[0mmodel\u001b[0m\u001b[0;34m.\u001b[0m\u001b[0msave\u001b[0m\u001b[0;34m(\u001b[0m\u001b[0;34m'nod_model.tf'\u001b[0m\u001b[0;34m)\u001b[0m\u001b[0;34m\u001b[0m\u001b[0;34m\u001b[0m\u001b[0m\n\u001b[1;32m      5\u001b[0m \u001b[0;34m\u001b[0m\u001b[0m\n",
      "\u001b[0;32m/opt/anaconda3/lib/python3.7/site-packages/tensorflow_core/python/keras/engine/training.py\u001b[0m in \u001b[0;36mfit\u001b[0;34m(self, x, y, batch_size, epochs, verbose, callbacks, validation_split, validation_data, shuffle, class_weight, sample_weight, initial_epoch, steps_per_epoch, validation_steps, validation_freq, max_queue_size, workers, use_multiprocessing, **kwargs)\u001b[0m\n\u001b[1;32m    726\u001b[0m         \u001b[0mmax_queue_size\u001b[0m\u001b[0;34m=\u001b[0m\u001b[0mmax_queue_size\u001b[0m\u001b[0;34m,\u001b[0m\u001b[0;34m\u001b[0m\u001b[0;34m\u001b[0m\u001b[0m\n\u001b[1;32m    727\u001b[0m         \u001b[0mworkers\u001b[0m\u001b[0;34m=\u001b[0m\u001b[0mworkers\u001b[0m\u001b[0;34m,\u001b[0m\u001b[0;34m\u001b[0m\u001b[0;34m\u001b[0m\u001b[0m\n\u001b[0;32m--> 728\u001b[0;31m         use_multiprocessing=use_multiprocessing)\n\u001b[0m\u001b[1;32m    729\u001b[0m \u001b[0;34m\u001b[0m\u001b[0m\n\u001b[1;32m    730\u001b[0m   def evaluate(self,\n",
      "\u001b[0;32m/opt/anaconda3/lib/python3.7/site-packages/tensorflow_core/python/keras/engine/training_arrays.py\u001b[0m in \u001b[0;36mfit\u001b[0;34m(self, model, x, y, batch_size, epochs, verbose, callbacks, validation_split, validation_data, shuffle, class_weight, sample_weight, initial_epoch, steps_per_epoch, validation_steps, validation_freq, **kwargs)\u001b[0m\n\u001b[1;32m    640\u001b[0m         \u001b[0msteps\u001b[0m\u001b[0;34m=\u001b[0m\u001b[0msteps_per_epoch\u001b[0m\u001b[0;34m,\u001b[0m\u001b[0;34m\u001b[0m\u001b[0;34m\u001b[0m\u001b[0m\n\u001b[1;32m    641\u001b[0m         \u001b[0mvalidation_split\u001b[0m\u001b[0;34m=\u001b[0m\u001b[0mvalidation_split\u001b[0m\u001b[0;34m,\u001b[0m\u001b[0;34m\u001b[0m\u001b[0;34m\u001b[0m\u001b[0m\n\u001b[0;32m--> 642\u001b[0;31m         shuffle=shuffle)\n\u001b[0m\u001b[1;32m    643\u001b[0m \u001b[0;34m\u001b[0m\u001b[0m\n\u001b[1;32m    644\u001b[0m     \u001b[0;32mif\u001b[0m \u001b[0mvalidation_data\u001b[0m\u001b[0;34m:\u001b[0m\u001b[0;34m\u001b[0m\u001b[0;34m\u001b[0m\u001b[0m\n",
      "\u001b[0;32m/opt/anaconda3/lib/python3.7/site-packages/tensorflow_core/python/keras/engine/training.py\u001b[0m in \u001b[0;36m_standardize_user_data\u001b[0;34m(self, x, y, sample_weight, class_weight, batch_size, check_steps, steps_name, steps, validation_split, shuffle, extract_tensors_from_dataset)\u001b[0m\n\u001b[1;32m   2470\u001b[0m           \u001b[0mfeed_input_shapes\u001b[0m\u001b[0;34m,\u001b[0m\u001b[0;34m\u001b[0m\u001b[0;34m\u001b[0m\u001b[0m\n\u001b[1;32m   2471\u001b[0m           \u001b[0mcheck_batch_axis\u001b[0m\u001b[0;34m=\u001b[0m\u001b[0;32mFalse\u001b[0m\u001b[0;34m,\u001b[0m  \u001b[0;31m# Don't enforce the batch size.\u001b[0m\u001b[0;34m\u001b[0m\u001b[0;34m\u001b[0m\u001b[0m\n\u001b[0;32m-> 2472\u001b[0;31m           exception_prefix='input')\n\u001b[0m\u001b[1;32m   2473\u001b[0m \u001b[0;34m\u001b[0m\u001b[0m\n\u001b[1;32m   2474\u001b[0m     \u001b[0;31m# Get typespecs for the input data and sanitize it if necessary.\u001b[0m\u001b[0;34m\u001b[0m\u001b[0;34m\u001b[0m\u001b[0;34m\u001b[0m\u001b[0m\n",
      "\u001b[0;32m/opt/anaconda3/lib/python3.7/site-packages/tensorflow_core/python/keras/engine/training_utils.py\u001b[0m in \u001b[0;36mstandardize_input_data\u001b[0;34m(data, names, shapes, check_batch_axis, exception_prefix)\u001b[0m\n\u001b[1;32m    563\u001b[0m                            \u001b[0;34m': expected '\u001b[0m \u001b[0;34m+\u001b[0m \u001b[0mnames\u001b[0m\u001b[0;34m[\u001b[0m\u001b[0mi\u001b[0m\u001b[0;34m]\u001b[0m \u001b[0;34m+\u001b[0m \u001b[0;34m' to have '\u001b[0m \u001b[0;34m+\u001b[0m\u001b[0;34m\u001b[0m\u001b[0;34m\u001b[0m\u001b[0m\n\u001b[1;32m    564\u001b[0m                            \u001b[0mstr\u001b[0m\u001b[0;34m(\u001b[0m\u001b[0mlen\u001b[0m\u001b[0;34m(\u001b[0m\u001b[0mshape\u001b[0m\u001b[0;34m)\u001b[0m\u001b[0;34m)\u001b[0m \u001b[0;34m+\u001b[0m \u001b[0;34m' dimensions, but got array '\u001b[0m\u001b[0;34m\u001b[0m\u001b[0;34m\u001b[0m\u001b[0m\n\u001b[0;32m--> 565\u001b[0;31m                            'with shape ' + str(data_shape))\n\u001b[0m\u001b[1;32m    566\u001b[0m         \u001b[0;32mif\u001b[0m \u001b[0;32mnot\u001b[0m \u001b[0mcheck_batch_axis\u001b[0m\u001b[0;34m:\u001b[0m\u001b[0;34m\u001b[0m\u001b[0;34m\u001b[0m\u001b[0m\n\u001b[1;32m    567\u001b[0m           \u001b[0mdata_shape\u001b[0m \u001b[0;34m=\u001b[0m \u001b[0mdata_shape\u001b[0m\u001b[0;34m[\u001b[0m\u001b[0;36m1\u001b[0m\u001b[0;34m:\u001b[0m\u001b[0;34m]\u001b[0m\u001b[0;34m\u001b[0m\u001b[0;34m\u001b[0m\u001b[0m\n",
      "\u001b[0;31mValueError\u001b[0m: Error when checking input: expected conv2d_9_input to have 4 dimensions, but got array with shape (5187, 50, 50)"
     ]
    }
   ],
   "source": [
    "model.fit(X_train_images, y_train_labels, epochs = 2, \n",
    "          validation_data = (X_val_images, y_val_labels))\n",
    "\n",
    "model.save('nod_model.tf')\n",
    "\n",
    "#model.fit(X_train_images, Y_train_labels, n_epoch=100, shuffle=True, validation_set=(X_val_images, Y_val_labels),\n",
    "          #show_metric=True, batch_size=96,snapshot_epoch=True,run_id='nodule-classifier')\n",
    "\n",
    "# Save model when training is complete to a file\n",
    "#model.save(\"nodule-classifier.tfl\")"
   ]
  },
  {
   "cell_type": "code",
   "execution_count": null,
   "metadata": {},
   "outputs": [],
   "source": []
  }
 ],
 "metadata": {
  "kernelspec": {
   "display_name": "Python 3",
   "language": "python",
   "name": "python3"
  },
  "language_info": {
   "codemirror_mode": {
    "name": "ipython",
    "version": 3
   },
   "file_extension": ".py",
   "mimetype": "text/x-python",
   "name": "python",
   "nbconvert_exporter": "python",
   "pygments_lexer": "ipython3",
   "version": "3.7.7"
  }
 },
 "nbformat": 4,
 "nbformat_minor": 4
}
