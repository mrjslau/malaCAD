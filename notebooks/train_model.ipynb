{
 "cells": [
  {
   "cell_type": "code",
   "execution_count": 77,
   "metadata": {},
   "outputs": [],
   "source": [
    "# Select images set\n",
    "SET = 'rot270'"
   ]
  },
  {
   "cell_type": "markdown",
   "metadata": {},
   "source": [
    "----"
   ]
  },
  {
   "cell_type": "code",
   "execution_count": 78,
   "metadata": {},
   "outputs": [],
   "source": [
    "import numpy as np\n",
    "import pandas as pd\n",
    "import os\n",
    "import SimpleITK as sitk\n",
    "from glob import glob\n",
    "\n",
    "import matplotlib.pyplot as plt"
   ]
  },
  {
   "cell_type": "markdown",
   "metadata": {},
   "source": [
    "### paths"
   ]
  },
  {
   "cell_type": "code",
   "execution_count": 79,
   "metadata": {},
   "outputs": [],
   "source": [
    "data_path = '../dataset/'\n",
    "SET_DIR = '../sets/' + SET + '/'\n",
    "TRAIN_IMG_DIR = SET_DIR + 'nodules/train/'\n",
    "TEST_IMG_DIR = SET_DIR + 'nodules/test/'\n",
    "VAL_IMG_DIR = SET_DIR + 'nodules/val/'\n",
    "IMG_PREF = 'nodule_'\n",
    "IMG_EXT = '.jpg'"
   ]
  },
  {
   "cell_type": "markdown",
   "metadata": {},
   "source": [
    "### read pickle"
   ]
  },
  {
   "cell_type": "code",
   "execution_count": 80,
   "metadata": {},
   "outputs": [],
   "source": [
    "X_train = pd.read_pickle(SET_DIR + 'pickle/traindata')\n",
    "X_test = pd.read_pickle(SET_DIR + 'pickle/testdata')\n",
    "X_val = pd.read_pickle(SET_DIR + 'pickle/valdata')\n",
    "y_train = pd.read_pickle(SET_DIR + 'pickle/trainlabels')\n",
    "y_test = pd.read_pickle(SET_DIR + 'pickle/testlabels')\n",
    "y_val = pd.read_pickle(SET_DIR + 'pickle/vallabels')"
   ]
  },
  {
   "cell_type": "code",
   "execution_count": 81,
   "metadata": {},
   "outputs": [
    {
     "name": "stdout",
     "output_type": "stream",
     "text": [
      "TRAINING DATA\n",
      "Total examples:  15113\n",
      "Total positives:  4300.0\n",
      "28.45 %\n"
     ]
    }
   ],
   "source": [
    "print('TRAINING DATA')\n",
    "print('Total examples: ', len(y_train))\n",
    "print('Total positives: ', y_train.sum())\n",
    "print(format((y_train.sum() / len(y_train)) * 100, '.2f'), '%')"
   ]
  },
  {
   "cell_type": "markdown",
   "metadata": {},
   "source": [
    "### create h5py files"
   ]
  },
  {
   "cell_type": "code",
   "execution_count": 82,
   "metadata": {},
   "outputs": [],
   "source": [
    "import h5py\n",
    "import PIL"
   ]
  },
  {
   "cell_type": "code",
   "execution_count": 83,
   "metadata": {},
   "outputs": [],
   "source": [
    "def create_h5py(mode):\n",
    "    if mode == 'train':\n",
    "        X = X_train\n",
    "        y = y_train\n",
    "        DIR = TRAIN_IMG_DIR\n",
    "    elif mode == 'test':\n",
    "        X = X_test\n",
    "        y = y_test\n",
    "        DIR = TEST_IMG_DIR\n",
    "    elif mode == 'val':\n",
    "        X = X_val\n",
    "        y = y_val\n",
    "        DIR = VAL_IMG_DIR\n",
    "    \n",
    "    f = h5py.File('../h5py/malaCAD' + mode + '.hdf5', 'w')\n",
    "    \n",
    "    # Create classes (labels) dataset\n",
    "    f.create_dataset(mode + '_labels', shape = (len(y),))\n",
    "    f[mode + '_labels'][...] = list(y)\n",
    "    \n",
    "    # Create images dataset\n",
    "    f.create_dataset(mode + '_img', shape = (len(X), 50, 50))\n",
    "    index = 0\n",
    "    for col in X.transpose():\n",
    "        image = PIL.Image.open(DIR + IMG_PREF + str(col) + IMG_EXT)\n",
    "        f[mode + '_img'][index, ...] = image\n",
    "        index += 1\n",
    "    \n",
    "    f.close()\n",
    "    \n",
    "    f = h5py.File('../h5py/malaCAD' + mode + '.hdf5', 'r')\n",
    "    X_ret = f[mode + '_img'] [...]\n",
    "    y_ret = f[mode + '_labels'][...]\n",
    "    f.close()\n",
    "    \n",
    "    return (X_ret, y_ret)"
   ]
  },
  {
   "cell_type": "code",
   "execution_count": 84,
   "metadata": {
    "scrolled": true
   },
   "outputs": [],
   "source": [
    "input_train, label_train = create_h5py('train')\n",
    "input_test, label_test = create_h5py('test')\n",
    "input_val, label_val = create_h5py('val')"
   ]
  },
  {
   "cell_type": "markdown",
   "metadata": {},
   "source": [
    "## CNN"
   ]
  },
  {
   "cell_type": "code",
   "execution_count": 85,
   "metadata": {},
   "outputs": [],
   "source": [
    "import os\n",
    "os.environ['KMP_DUPLICATE_LIB_OK']='True'"
   ]
  },
  {
   "cell_type": "code",
   "execution_count": 86,
   "metadata": {},
   "outputs": [],
   "source": [
    "from tensorflow.keras.models import Sequential\n",
    "from tensorflow.keras.layers import Dense, Flatten, Conv2D, Dropout, MaxPool2D\n",
    "from tensorflow.keras.losses import binary_crossentropy\n",
    "from tensorflow.keras.optimizers import Adam"
   ]
  },
  {
   "cell_type": "code",
   "execution_count": 87,
   "metadata": {},
   "outputs": [],
   "source": [
    "# Model configuration\n",
    "batch_size = 50\n",
    "img_width, img_height, img_num_channels = 50, 50, 1\n",
    "loss_function = binary_crossentropy\n",
    "no_classes = 1\n",
    "no_epochs = 5\n",
    "optimizer = Adam()\n",
    "validation_split = 0.2\n",
    "verbosity = 1"
   ]
  },
  {
   "cell_type": "code",
   "execution_count": 88,
   "metadata": {},
   "outputs": [],
   "source": [
    "# Reshape data\n",
    "input_train = input_train.reshape(len(input_train), img_width, img_height, img_num_channels)\n",
    "input_test = input_test.reshape(len(input_test), img_width, img_height, img_num_channels)\n",
    "input_val = input_val.reshape(len(input_val), img_width, img_height, img_num_channels)\n",
    "\n",
    "input_shape = (img_width, img_height, img_num_channels)"
   ]
  },
  {
   "cell_type": "code",
   "execution_count": 89,
   "metadata": {},
   "outputs": [
    {
     "name": "stdout",
     "output_type": "stream",
     "text": [
      "15113\n",
      "2973\n",
      "2973\n"
     ]
    }
   ],
   "source": [
    "print(len(input_train))\n",
    "print(len(input_test))\n",
    "print(len(input_val))"
   ]
  },
  {
   "cell_type": "code",
   "execution_count": 90,
   "metadata": {},
   "outputs": [
    {
     "name": "stdout",
     "output_type": "stream",
     "text": [
      "Model: \"sequential_4\"\n",
      "_________________________________________________________________\n",
      "Layer (type)                 Output Shape              Param #   \n",
      "=================================================================\n",
      "conv2d_12 (Conv2D)           (None, 48, 48, 50)        500       \n",
      "_________________________________________________________________\n",
      "max_pooling2d_6 (MaxPooling2 (None, 24, 24, 50)        0         \n",
      "_________________________________________________________________\n",
      "conv2d_13 (Conv2D)           (None, 22, 22, 64)        28864     \n",
      "_________________________________________________________________\n",
      "conv2d_14 (Conv2D)           (None, 20, 20, 64)        36928     \n",
      "_________________________________________________________________\n",
      "max_pooling2d_7 (MaxPooling2 (None, 10, 10, 64)        0         \n",
      "_________________________________________________________________\n",
      "flatten_4 (Flatten)          (None, 6400)              0         \n",
      "_________________________________________________________________\n",
      "dense_8 (Dense)              (None, 128)               819328    \n",
      "_________________________________________________________________\n",
      "dropout_3 (Dropout)          (None, 128)               0         \n",
      "_________________________________________________________________\n",
      "dense_9 (Dense)              (None, 1)                 129       \n",
      "=================================================================\n",
      "Total params: 885,749\n",
      "Trainable params: 885,749\n",
      "Non-trainable params: 0\n",
      "_________________________________________________________________\n"
     ]
    }
   ],
   "source": [
    "# Create the model\n",
    "model = Sequential()\n",
    "model.add(Conv2D(50, kernel_size=(3, 3), activation='relu', input_shape = input_shape))\n",
    "model.add(MaxPool2D())\n",
    "model.add(Conv2D(64, kernel_size=(3, 3), activation='relu'))\n",
    "model.add(Conv2D(64, kernel_size=(3, 3), activation='relu'))\n",
    "model.add(MaxPool2D())\n",
    "model.add(Flatten())\n",
    "model.add(Dense(128, activation='relu'))\n",
    "model.add(Dropout(0.5))\n",
    "model.add(Dense(no_classes, activation='sigmoid'))\n",
    "\n",
    "# Display a model summary\n",
    "model.summary()"
   ]
  },
  {
   "cell_type": "code",
   "execution_count": 91,
   "metadata": {},
   "outputs": [],
   "source": [
    "# Compile the model\n",
    "model.compile(loss=loss_function,\n",
    "              optimizer=optimizer,\n",
    "              metrics=['accuracy'])"
   ]
  },
  {
   "cell_type": "markdown",
   "metadata": {},
   "source": [
    "### train model"
   ]
  },
  {
   "cell_type": "code",
   "execution_count": null,
   "metadata": {},
   "outputs": [
    {
     "name": "stdout",
     "output_type": "stream",
     "text": [
      "Train on 15113 samples, validate on 2973 samples\n",
      "Epoch 1/5\n",
      " 3450/15113 [=====>........................] - ETA: 1:32 - loss: 1.6176 - accuracy: 0.7310"
     ]
    }
   ],
   "source": [
    "model.fit(input_train, label_train,\n",
    "            batch_size=batch_size,\n",
    "            epochs=no_epochs,\n",
    "            verbose=verbosity,\n",
    "            validation_data=(input_val, label_val))"
   ]
  },
  {
   "cell_type": "code",
   "execution_count": 55,
   "metadata": {},
   "outputs": [
    {
     "data": {
      "text/plain": [
       "<matplotlib.axes._subplots.AxesSubplot at 0x6e52ca950>"
      ]
     },
     "execution_count": 55,
     "metadata": {},
     "output_type": "execute_result"
    },
    {
     "data": {
      "image/png": "[encoded data removed]",
      "text/plain": [
       "<Figure size 432x288 with 1 Axes>"
      ]
     },
     "metadata": {
      "needs_background": "light"
     },
     "output_type": "display_data"
    }
   ],
   "source": [
    "pd.DataFrame(model.history.history).plot()"
   ]
  },
  {
   "cell_type": "markdown",
   "metadata": {},
   "source": [
    "### save model"
   ]
  },
  {
   "cell_type": "code",
   "execution_count": 56,
   "metadata": {},
   "outputs": [],
   "source": [
    "model.save('../models/rot90_cnn_model.h5')"
   ]
  },
  {
   "cell_type": "markdown",
   "metadata": {},
   "source": [
    "### predict"
   ]
  },
  {
   "cell_type": "code",
   "execution_count": 57,
   "metadata": {},
   "outputs": [
    {
     "name": "stdout",
     "output_type": "stream",
     "text": [
      "Test loss: 0.1203487484248808 / Test accuracy: 0.955600380897522\n"
     ]
    }
   ],
   "source": [
    "score = model.evaluate(input_test, label_test, verbose=0)\n",
    "print(f'Test loss: {score[0]} / Test accuracy: {score[1]}')"
   ]
  },
  {
   "cell_type": "code",
   "execution_count": 58,
   "metadata": {},
   "outputs": [
    {
     "name": "stdout",
     "output_type": "stream",
     "text": [
      "[[2649   92]\n",
      " [  40  192]]\n",
      "              precision    recall  f1-score   support\n",
      "\n",
      "         0.0       0.99      0.97      0.98      2741\n",
      "         1.0       0.68      0.83      0.74       232\n",
      "\n",
      "    accuracy                           0.96      2973\n",
      "   macro avg       0.83      0.90      0.86      2973\n",
      "weighted avg       0.96      0.96      0.96      2973\n",
      "\n"
     ]
    }
   ],
   "source": [
    "from sklearn.metrics import confusion_matrix, classification_report\n",
    "\n",
    "preds = model.predict_classes(input_test)\n",
    "\n",
    "print(confusion_matrix(label_test, preds))\n",
    "print(classification_report(label_test, preds))"
   ]
  },
  {
   "cell_type": "code",
   "execution_count": null,
   "metadata": {},
   "outputs": [],
   "source": []
  }
 ],
 "metadata": {
  "kernelspec": {
   "display_name": "Python 3",
   "language": "python",
   "name": "python3"
  },
  "language_info": {
   "codemirror_mode": {
    "name": "ipython",
    "version": 3
   },
   "file_extension": ".py",
   "mimetype": "text/x-python",
   "name": "python",
   "nbconvert_exporter": "python",
   "pygments_lexer": "ipython3",
   "version": "3.7.7"
  }
 },
 "nbformat": 4,
 "nbformat_minor": 4
}
