{
 "cells": [
  {
   "cell_type": "code",
   "execution_count": 353,
   "metadata": {},
   "outputs": [],
   "source": [
    "# Select images set\n",
    "SET = 'rot270'"
   ]
  },
  {
   "cell_type": "markdown",
   "metadata": {},
   "source": [
    "----"
   ]
  },
  {
   "cell_type": "code",
   "execution_count": 354,
   "metadata": {},
   "outputs": [],
   "source": [
    "import numpy as np\n",
    "import pandas as pd\n",
    "import os\n",
    "import SimpleITK as sitk\n",
    "from glob import glob\n",
    "\n",
    "import matplotlib.pyplot as plt"
   ]
  },
  {
   "cell_type": "markdown",
   "metadata": {},
   "source": [
    "### paths"
   ]
  },
  {
   "cell_type": "code",
   "execution_count": 355,
   "metadata": {},
   "outputs": [],
   "source": [
    "SET_DIR = '../sets/' + SET + '/'\n",
    "TRAIN_IMG_DIR = SET_DIR + 'nodules/train/'\n",
    "TEST_IMG_DIR = SET_DIR + 'nodules/test/'\n",
    "VAL_IMG_DIR = SET_DIR + 'nodules/val/'\n",
    "IMG_PREF = 'nodule_'\n",
    "IMG_EXT = '.jpg'"
   ]
  },
  {
   "cell_type": "markdown",
   "metadata": {},
   "source": [
    "### read pickle"
   ]
  },
  {
   "cell_type": "code",
   "execution_count": 356,
   "metadata": {},
   "outputs": [],
   "source": [
    "X_train = pd.read_pickle(SET_DIR + 'pickle/traindata')\n",
    "X_test = pd.read_pickle(SET_DIR + 'pickle/testdata')\n",
    "X_val = pd.read_pickle(SET_DIR + 'pickle/valdata')\n",
    "y_train = pd.read_pickle(SET_DIR + 'pickle/trainlabels')\n",
    "y_test = pd.read_pickle(SET_DIR + 'pickle/testlabels')\n",
    "y_val = pd.read_pickle(SET_DIR + 'pickle/vallabels')"
   ]
  },
  {
   "cell_type": "code",
   "execution_count": 357,
   "metadata": {
    "scrolled": true
   },
   "outputs": [
    {
     "name": "stdout",
     "output_type": "stream",
     "text": [
      "TRAINING DATA\n",
      "Total examples:  15113\n",
      "Total positives:  4300.0\n",
      "28.45 %\n"
     ]
    }
   ],
   "source": [
    "print('TRAINING DATA')\n",
    "print('Total examples: ', len(y_train))\n",
    "print('Total positives: ', y_train.sum())\n",
    "print(format((y_train.sum() / len(y_train)) * 100, '.2f'), '%')"
   ]
  },
  {
   "cell_type": "code",
   "execution_count": 358,
   "metadata": {},
   "outputs": [
    {
     "name": "stdout",
     "output_type": "stream",
     "text": [
      "TESTING DATA\n",
      "Total examples:  2973\n",
      "Total positives:  232\n",
      "7.80 %\n"
     ]
    }
   ],
   "source": [
    "print('TESTING DATA')\n",
    "print('Total examples: ', len(y_test))\n",
    "print('Total positives: ', y_test.sum())\n",
    "print(format((y_test.sum() / len(y_test)) * 100, '.2f'), '%')"
   ]
  },
  {
   "cell_type": "markdown",
   "metadata": {},
   "source": [
    "----\n",
    "### change negative size (optional)"
   ]
  },
  {
   "cell_type": "code",
   "execution_count": 359,
   "metadata": {},
   "outputs": [
    {
     "data": {
      "text/html": [
       "<div>\n",
       "<style scoped>\n",
       "    .dataframe tbody tr th:only-of-type {\n",
       "        vertical-align: middle;\n",
       "    }\n",
       "\n",
       "    .dataframe tbody tr th {\n",
       "        vertical-align: top;\n",
       "    }\n",
       "\n",
       "    .dataframe thead th {\n",
       "        text-align: right;\n",
       "    }\n",
       "</style>\n",
       "<table border=\"1\" class=\"dataframe\">\n",
       "  <thead>\n",
       "    <tr style=\"text-align: right;\">\n",
       "      <th></th>\n",
       "      <th>seriesuid</th>\n",
       "      <th>coordX</th>\n",
       "      <th>coordY</th>\n",
       "      <th>coordZ</th>\n",
       "    </tr>\n",
       "  </thead>\n",
       "  <tbody>\n",
       "    <tr>\n",
       "      <th>442824</th>\n",
       "      <td>1.3.6.1.4.1.14519.5.2.1.6279.6001.440226700369...</td>\n",
       "      <td>42.580000</td>\n",
       "      <td>-105.410000</td>\n",
       "      <td>-168.900000</td>\n",
       "    </tr>\n",
       "    <tr>\n",
       "      <th>462788</th>\n",
       "      <td>1.3.6.1.4.1.14519.5.2.1.6279.6001.518487185634...</td>\n",
       "      <td>-142.942334</td>\n",
       "      <td>6.301840</td>\n",
       "      <td>-223.126667</td>\n",
       "    </tr>\n",
       "    <tr>\n",
       "      <th>40899</th>\n",
       "      <td>1.3.6.1.4.1.14519.5.2.1.6279.6001.122914038048...</td>\n",
       "      <td>-144.537000</td>\n",
       "      <td>78.477400</td>\n",
       "      <td>-290.129000</td>\n",
       "    </tr>\n",
       "    <tr>\n",
       "      <th>73165</th>\n",
       "      <td>1.3.6.1.4.1.14519.5.2.1.6279.6001.139713436241...</td>\n",
       "      <td>-123.985174</td>\n",
       "      <td>19.288018</td>\n",
       "      <td>-210.801957</td>\n",
       "    </tr>\n",
       "    <tr>\n",
       "      <th>194094</th>\n",
       "      <td>1.3.6.1.4.1.14519.5.2.1.6279.6001.204287915902...</td>\n",
       "      <td>-107.654586</td>\n",
       "      <td>39.966731</td>\n",
       "      <td>-206.102586</td>\n",
       "    </tr>\n",
       "    <tr>\n",
       "      <th>...</th>\n",
       "      <td>...</td>\n",
       "      <td>...</td>\n",
       "      <td>...</td>\n",
       "      <td>...</td>\n",
       "    </tr>\n",
       "    <tr>\n",
       "      <th>3162840</th>\n",
       "      <td>1.3.6.1.4.1.14519.5.2.1.6279.6001.188265424231...</td>\n",
       "      <td>-60.617275</td>\n",
       "      <td>70.697839</td>\n",
       "      <td>-57.825056</td>\n",
       "    </tr>\n",
       "    <tr>\n",
       "      <th>3146099</th>\n",
       "      <td>1.3.6.1.4.1.14519.5.2.1.6279.6001.178391668569...</td>\n",
       "      <td>96.140000</td>\n",
       "      <td>-21.720000</td>\n",
       "      <td>-154.590000</td>\n",
       "    </tr>\n",
       "    <tr>\n",
       "      <th>3058637</th>\n",
       "      <td>1.3.6.1.4.1.14519.5.2.1.6279.6001.131939324905...</td>\n",
       "      <td>-59.545794</td>\n",
       "      <td>83.652696</td>\n",
       "      <td>1369.677277</td>\n",
       "    </tr>\n",
       "    <tr>\n",
       "      <th>3018656</th>\n",
       "      <td>1.3.6.1.4.1.14519.5.2.1.6279.6001.110678335949...</td>\n",
       "      <td>-39.483881</td>\n",
       "      <td>-108.962047</td>\n",
       "      <td>-139.661218</td>\n",
       "    </tr>\n",
       "    <tr>\n",
       "      <th>3115365</th>\n",
       "      <td>1.3.6.1.4.1.14519.5.2.1.6279.6001.163901773171...</td>\n",
       "      <td>-56.590000</td>\n",
       "      <td>33.440000</td>\n",
       "      <td>-420.080000</td>\n",
       "    </tr>\n",
       "  </tbody>\n",
       "</table>\n",
       "<p>15113 rows × 4 columns</p>\n",
       "</div>"
      ],
      "text/plain": [
       "                                                 seriesuid      coordX  \\\n",
       "442824   1.3.6.1.4.1.14519.5.2.1.6279.6001.440226700369...   42.580000   \n",
       "462788   1.3.6.1.4.1.14519.5.2.1.6279.6001.518487185634... -142.942334   \n",
       "40899    1.3.6.1.4.1.14519.5.2.1.6279.6001.122914038048... -144.537000   \n",
       "73165    1.3.6.1.4.1.14519.5.2.1.6279.6001.139713436241... -123.985174   \n",
       "194094   1.3.6.1.4.1.14519.5.2.1.6279.6001.204287915902... -107.654586   \n",
       "...                                                    ...         ...   \n",
       "3162840  1.3.6.1.4.1.14519.5.2.1.6279.6001.188265424231...  -60.617275   \n",
       "3146099  1.3.6.1.4.1.14519.5.2.1.6279.6001.178391668569...   96.140000   \n",
       "3058637  1.3.6.1.4.1.14519.5.2.1.6279.6001.131939324905...  -59.545794   \n",
       "3018656  1.3.6.1.4.1.14519.5.2.1.6279.6001.110678335949...  -39.483881   \n",
       "3115365  1.3.6.1.4.1.14519.5.2.1.6279.6001.163901773171...  -56.590000   \n",
       "\n",
       "             coordY       coordZ  \n",
       "442824  -105.410000  -168.900000  \n",
       "462788     6.301840  -223.126667  \n",
       "40899     78.477400  -290.129000  \n",
       "73165     19.288018  -210.801957  \n",
       "194094    39.966731  -206.102586  \n",
       "...             ...          ...  \n",
       "3162840   70.697839   -57.825056  \n",
       "3146099  -21.720000  -154.590000  \n",
       "3058637   83.652696  1369.677277  \n",
       "3018656 -108.962047  -139.661218  \n",
       "3115365   33.440000  -420.080000  \n",
       "\n",
       "[15113 rows x 4 columns]"
      ]
     },
     "execution_count": 359,
     "metadata": {},
     "output_type": "execute_result"
    }
   ],
   "source": [
    "X_train"
   ]
  },
  {
   "cell_type": "code",
   "execution_count": 360,
   "metadata": {},
   "outputs": [],
   "source": [
    "neg_ids = X_train[y_train == 0].index\n",
    "pos_ids = X_train[y_train == 1].index \n",
    "neg_ids = np.random.choice(neg_ids, int(len(pos_ids)), replace = False)"
   ]
  },
  {
   "cell_type": "code",
   "execution_count": 361,
   "metadata": {},
   "outputs": [],
   "source": [
    "X_train = X_train.loc[list(pos_ids) + list(neg_ids)]\n",
    "y_train = y_train.loc[list(pos_ids) + list(neg_ids)]"
   ]
  },
  {
   "cell_type": "code",
   "execution_count": 362,
   "metadata": {},
   "outputs": [
    {
     "name": "stdout",
     "output_type": "stream",
     "text": [
      "TRAINING DATA\n",
      "Total examples:  8600\n",
      "Total positives:  4300.0\n",
      "50.00 %\n"
     ]
    }
   ],
   "source": [
    "print('TRAINING DATA')\n",
    "print('Total examples: ', len(y_train))\n",
    "print('Total positives: ', y_train.sum())\n",
    "print(format((y_train.sum() / len(y_train)) * 100, '.2f'), '%')"
   ]
  },
  {
   "cell_type": "markdown",
   "metadata": {},
   "source": [
    "----"
   ]
  },
  {
   "cell_type": "markdown",
   "metadata": {},
   "source": [
    "### create h5py files"
   ]
  },
  {
   "cell_type": "code",
   "execution_count": 363,
   "metadata": {},
   "outputs": [],
   "source": [
    "import h5py\n",
    "import PIL"
   ]
  },
  {
   "cell_type": "code",
   "execution_count": 364,
   "metadata": {},
   "outputs": [],
   "source": [
    "def create_h5py(mode):\n",
    "    if mode == 'train':\n",
    "        X = X_train\n",
    "        y = y_train\n",
    "        DIR = TRAIN_IMG_DIR\n",
    "    elif mode == 'test':\n",
    "        X = X_test\n",
    "        y = y_test\n",
    "        DIR = TEST_IMG_DIR\n",
    "    elif mode == 'val':\n",
    "        X = X_val\n",
    "        y = y_val\n",
    "        DIR = VAL_IMG_DIR\n",
    "    \n",
    "    f = h5py.File('../h5py/malaCAD' + mode + '.hdf5', 'w')\n",
    "    \n",
    "    # Create classes (labels) dataset\n",
    "    f.create_dataset(mode + '_labels', shape = (len(y),))\n",
    "    f[mode + '_labels'][...] = list(y)\n",
    "    \n",
    "    # Create images dataset\n",
    "    f.create_dataset(mode + '_img', shape = (len(X), 50, 50))\n",
    "    index = 0\n",
    "    for col in X.transpose():\n",
    "        image = PIL.Image.open(DIR + IMG_PREF + str(col) + IMG_EXT)\n",
    "        f[mode + '_img'][index, ...] = image\n",
    "        index += 1\n",
    "    \n",
    "    f.close()\n",
    "    \n",
    "    f = h5py.File('../h5py/malaCAD' + mode + '.hdf5', 'r')\n",
    "    X_ret = f[mode + '_img'] [...]\n",
    "    y_ret = f[mode + '_labels'][...]\n",
    "    f.close()\n",
    "    \n",
    "    return (X_ret, y_ret)"
   ]
  },
  {
   "cell_type": "code",
   "execution_count": 365,
   "metadata": {
    "scrolled": true
   },
   "outputs": [],
   "source": [
    "input_train, label_train = create_h5py('train')\n",
    "input_test, label_test = create_h5py('test')\n",
    "input_val, label_val = create_h5py('val')"
   ]
  },
  {
   "cell_type": "markdown",
   "metadata": {},
   "source": [
    "## CNN"
   ]
  },
  {
   "cell_type": "code",
   "execution_count": 366,
   "metadata": {},
   "outputs": [],
   "source": [
    "import os\n",
    "os.environ['KMP_DUPLICATE_LIB_OK']='True'"
   ]
  },
  {
   "cell_type": "code",
   "execution_count": 367,
   "metadata": {},
   "outputs": [],
   "source": [
    "from tensorflow.keras.models import Sequential\n",
    "from tensorflow.keras.layers import Dense, Flatten, Conv2D, Dropout, MaxPool2D\n",
    "from tensorflow.keras.losses import binary_crossentropy\n",
    "from tensorflow.keras.optimizers import Adam"
   ]
  },
  {
   "cell_type": "code",
   "execution_count": 368,
   "metadata": {},
   "outputs": [],
   "source": [
    "# Model configuration\n",
    "batch_size = 50\n",
    "img_width, img_height, img_num_channels = 50, 50, 1\n",
    "loss_function = binary_crossentropy\n",
    "no_classes = 1\n",
    "no_epochs = 10\n",
    "optimizer = Adam()\n",
    "validation_split = 0.2\n",
    "verbosity = 1"
   ]
  },
  {
   "cell_type": "code",
   "execution_count": 369,
   "metadata": {},
   "outputs": [],
   "source": [
    "# Reshape data\n",
    "input_train = input_train.reshape(len(input_train), img_width, img_height, img_num_channels)\n",
    "input_test = input_test.reshape(len(input_test), img_width, img_height, img_num_channels)\n",
    "input_val = input_val.reshape(len(input_val), img_width, img_height, img_num_channels)\n",
    "\n",
    "input_shape = (img_width, img_height, img_num_channels)"
   ]
  },
  {
   "cell_type": "code",
   "execution_count": 370,
   "metadata": {},
   "outputs": [
    {
     "name": "stdout",
     "output_type": "stream",
     "text": [
      "8600\n",
      "2973\n",
      "2973\n"
     ]
    }
   ],
   "source": [
    "print(len(input_train))\n",
    "print(len(input_test))\n",
    "print(len(input_val))"
   ]
  },
  {
   "cell_type": "code",
   "execution_count": 371,
   "metadata": {},
   "outputs": [
    {
     "name": "stdout",
     "output_type": "stream",
     "text": [
      "Model: \"sequential_19\"\n",
      "_________________________________________________________________\n",
      "Layer (type)                 Output Shape              Param #   \n",
      "=================================================================\n",
      "conv2d_58 (Conv2D)           (None, 48, 48, 50)        500       \n",
      "_________________________________________________________________\n",
      "max_pooling2d_39 (MaxPooling (None, 24, 24, 50)        0         \n",
      "_________________________________________________________________\n",
      "conv2d_59 (Conv2D)           (None, 22, 22, 64)        28864     \n",
      "_________________________________________________________________\n",
      "conv2d_60 (Conv2D)           (None, 20, 20, 64)        36928     \n",
      "_________________________________________________________________\n",
      "max_pooling2d_40 (MaxPooling (None, 10, 10, 64)        0         \n",
      "_________________________________________________________________\n",
      "flatten_19 (Flatten)         (None, 6400)              0         \n",
      "_________________________________________________________________\n",
      "dense_41 (Dense)             (None, 128)               819328    \n",
      "_________________________________________________________________\n",
      "dropout_22 (Dropout)         (None, 128)               0         \n",
      "_________________________________________________________________\n",
      "dense_42 (Dense)             (None, 1)                 129       \n",
      "=================================================================\n",
      "Total params: 885,749\n",
      "Trainable params: 885,749\n",
      "Non-trainable params: 0\n",
      "_________________________________________________________________\n"
     ]
    }
   ],
   "source": [
    "# Create the model\n",
    "model = Sequential()\n",
    "model.add(Conv2D(50, kernel_size=(3, 3), activation='relu', input_shape = input_shape))\n",
    "model.add(MaxPool2D())\n",
    "model.add(Conv2D(64, kernel_size=(3, 3), activation='relu'))\n",
    "model.add(Conv2D(64, kernel_size=(3, 3), activation='relu'))\n",
    "model.add(MaxPool2D())\n",
    "model.add(Flatten())\n",
    "model.add(Dense(128, activation='relu'))\n",
    "model.add(Dropout(0.5))\n",
    "model.add(Dense(no_classes, activation='sigmoid'))\n",
    "\n",
    "# Display model summary\n",
    "model.summary()"
   ]
  },
  {
   "cell_type": "code",
   "execution_count": 372,
   "metadata": {},
   "outputs": [],
   "source": [
    "# Compile the model\n",
    "model.compile(loss=loss_function,\n",
    "              optimizer=optimizer,\n",
    "              metrics=['accuracy'])"
   ]
  },
  {
   "cell_type": "markdown",
   "metadata": {},
   "source": [
    "### train model"
   ]
  },
  {
   "cell_type": "code",
   "execution_count": 373,
   "metadata": {},
   "outputs": [
    {
     "name": "stdout",
     "output_type": "stream",
     "text": [
      "Train on 8600 samples, validate on 2973 samples\n",
      "Epoch 1/10\n",
      "8600/8600 [==============================] - 74s 9ms/sample - loss: 0.8877 - accuracy: 0.7309 - val_loss: 0.4951 - val_accuracy: 0.8015\n",
      "Epoch 2/10\n",
      "8600/8600 [==============================] - 73s 8ms/sample - loss: 0.3412 - accuracy: 0.8579 - val_loss: 0.3980 - val_accuracy: 0.8483\n",
      "Epoch 3/10\n",
      "8600/8600 [==============================] - 73s 8ms/sample - loss: 0.2689 - accuracy: 0.8947 - val_loss: 0.2730 - val_accuracy: 0.8937\n",
      "Epoch 4/10\n",
      "8600/8600 [==============================] - 73s 8ms/sample - loss: 0.2331 - accuracy: 0.9051 - val_loss: 0.2203 - val_accuracy: 0.9132\n",
      "Epoch 5/10\n",
      "8600/8600 [==============================] - 73s 8ms/sample - loss: 0.1837 - accuracy: 0.9278 - val_loss: 0.2255 - val_accuracy: 0.9142\n",
      "Epoch 6/10\n",
      "8600/8600 [==============================] - 73s 8ms/sample - loss: 0.1561 - accuracy: 0.9394 - val_loss: 0.2975 - val_accuracy: 0.8836\n",
      "Epoch 7/10\n",
      "8600/8600 [==============================] - 73s 8ms/sample - loss: 0.1281 - accuracy: 0.9498 - val_loss: 0.2859 - val_accuracy: 0.8957\n",
      "Epoch 8/10\n",
      "8600/8600 [==============================] - 73s 8ms/sample - loss: 0.1137 - accuracy: 0.9592 - val_loss: 0.2358 - val_accuracy: 0.9226\n",
      "Epoch 9/10\n",
      "8600/8600 [==============================] - 73s 8ms/sample - loss: 0.1018 - accuracy: 0.9626 - val_loss: 0.2618 - val_accuracy: 0.9139\n",
      "Epoch 10/10\n",
      "8600/8600 [==============================] - 73s 8ms/sample - loss: 0.0766 - accuracy: 0.9719 - val_loss: 0.2361 - val_accuracy: 0.9183\n"
     ]
    },
    {
     "data": {
      "text/plain": [
       "<tensorflow.python.keras.callbacks.History at 0x1ac9522710>"
      ]
     },
     "execution_count": 373,
     "metadata": {},
     "output_type": "execute_result"
    }
   ],
   "source": [
    "model.fit(input_train, label_train,\n",
    "            batch_size=batch_size,\n",
    "            epochs=no_epochs,\n",
    "            verbose=verbosity,\n",
    "            validation_data=(input_val, label_val))"
   ]
  },
  {
   "cell_type": "code",
   "execution_count": 374,
   "metadata": {
    "scrolled": true
   },
   "outputs": [
    {
     "data": {
      "text/plain": [
       "<matplotlib.axes._subplots.AxesSubplot at 0x1ac267c590>"
      ]
     },
     "execution_count": 374,
     "metadata": {},
     "output_type": "execute_result"
    },
    {
     "data": {
      "image/png": "[encoded data removed]",
      "text/plain": [
       "<Figure size 432x288 with 1 Axes>"
      ]
     },
     "metadata": {
      "needs_background": "light"
     },
     "output_type": "display_data"
    }
   ],
   "source": [
    "pd.DataFrame(model.history.history).plot()"
   ]
  },
  {
   "cell_type": "markdown",
   "metadata": {},
   "source": [
    "### predict"
   ]
  },
  {
   "cell_type": "code",
   "execution_count": 375,
   "metadata": {
    "scrolled": true
   },
   "outputs": [
    {
     "name": "stdout",
     "output_type": "stream",
     "text": [
      "Test loss: 0.13518877672278998 / Test accuracy: 0.9562731385231018\n",
      "[[2639  102]\n",
      " [  28  204]]\n",
      "              precision    recall  f1-score   support\n",
      "\n",
      "         0.0       0.99      0.96      0.98      2741\n",
      "         1.0       0.67      0.88      0.76       232\n",
      "\n",
      "    accuracy                           0.96      2973\n",
      "   macro avg       0.83      0.92      0.87      2973\n",
      "weighted avg       0.96      0.96      0.96      2973\n",
      "\n"
     ]
    }
   ],
   "source": [
    "from sklearn.metrics import confusion_matrix, classification_report\n",
    "\n",
    "score = model.evaluate(input_test, label_test, verbose=0)\n",
    "print(f'Test loss: {score[0]} / Test accuracy: {score[1]}')\n",
    "\n",
    "preds = model.predict_classes(input_test)\n",
    "print(confusion_matrix(label_test, preds))\n",
    "print(classification_report(label_test, preds))"
   ]
  },
  {
   "cell_type": "code",
   "execution_count": 376,
   "metadata": {},
   "outputs": [
    {
     "name": "stdout",
     "output_type": "stream",
     "text": [
      "[[ 204   28]\n",
      " [ 102 2639]]\n"
     ]
    }
   ],
   "source": [
    "mat = np.ndarray(shape = (2, 2), dtype = int)\n",
    "mat[0][0] = confusion_matrix(label_test, preds)[1][1]\n",
    "mat[0][1] = confusion_matrix(label_test, preds)[1][0]\n",
    "mat[1][0] = confusion_matrix(label_test, preds)[0][1]\n",
    "mat[1][1] = confusion_matrix(label_test, preds)[0][0]\n",
    "print( mat )"
   ]
  },
  {
   "cell_type": "markdown",
   "metadata": {},
   "source": [
    "### save model"
   ]
  },
  {
   "cell_type": "code",
   "execution_count": 377,
   "metadata": {},
   "outputs": [],
   "source": [
    "model.save('../models/MAIN270eql.h5')"
   ]
  },
  {
   "cell_type": "markdown",
   "metadata": {},
   "source": [
    "----\n",
    "<br>\n",
    "<br>\n",
    "<br>"
   ]
  },
  {
   "cell_type": "markdown",
   "metadata": {},
   "source": [
    "### Default model"
   ]
  },
  {
   "cell_type": "code",
   "execution_count": 109,
   "metadata": {},
   "outputs": [
    {
     "name": "stdout",
     "output_type": "stream",
     "text": [
      "Model: \"sequential_10\"\n",
      "_________________________________________________________________\n",
      "Layer (type)                 Output Shape              Param #   \n",
      "=================================================================\n",
      "conv2d_31 (Conv2D)           (None, 48, 48, 50)        500       \n",
      "_________________________________________________________________\n",
      "max_pooling2d_21 (MaxPooling (None, 24, 24, 50)        0         \n",
      "_________________________________________________________________\n",
      "conv2d_32 (Conv2D)           (None, 22, 22, 64)        28864     \n",
      "_________________________________________________________________\n",
      "conv2d_33 (Conv2D)           (None, 20, 20, 64)        36928     \n",
      "_________________________________________________________________\n",
      "max_pooling2d_22 (MaxPooling (None, 10, 10, 64)        0         \n",
      "_________________________________________________________________\n",
      "flatten_10 (Flatten)         (None, 6400)              0         \n",
      "_________________________________________________________________\n",
      "dense_23 (Dense)             (None, 128)               819328    \n",
      "_________________________________________________________________\n",
      "dropout_13 (Dropout)         (None, 128)               0         \n",
      "_________________________________________________________________\n",
      "dense_24 (Dense)             (None, 1)                 129       \n",
      "=================================================================\n",
      "Total params: 885,749\n",
      "Trainable params: 885,749\n",
      "Non-trainable params: 0\n",
      "_________________________________________________________________\n"
     ]
    }
   ],
   "source": [
    "# Create the model\n",
    "model_new = Sequential()\n",
    "model_new.add(Conv2D(50, kernel_size=(3, 3), activation='relu', input_shape = input_shape))\n",
    "model_new.add(MaxPool2D())\n",
    "model_new.add(Conv2D(64, kernel_size=(3, 3), activation='relu'))\n",
    "model_new.add(Conv2D(64, kernel_size=(3, 3), activation='relu'))\n",
    "model_new.add(MaxPool2D())\n",
    "model_new.add(Flatten())\n",
    "model_new.add(Dense(128, activation='relu'))\n",
    "model_new.add(Dropout(0.5))\n",
    "model_new.add(Dense(no_classes, activation='sigmoid'))\n",
    "\n",
    "# Display a model summary\n",
    "model_new.summary()"
   ]
  },
  {
   "cell_type": "code",
   "execution_count": 110,
   "metadata": {},
   "outputs": [],
   "source": [
    "# Compile the model\n",
    "model_new.compile(loss=loss_function,\n",
    "              optimizer=optimizer,\n",
    "              metrics=['accuracy'])"
   ]
  },
  {
   "cell_type": "code",
   "execution_count": 113,
   "metadata": {},
   "outputs": [
    {
     "name": "stdout",
     "output_type": "stream",
     "text": [
      "Train on 14038 samples, validate on 2973 samples\n",
      "Epoch 1/15\n",
      "14038/14038 [==============================] - 111s 8ms/sample - loss: 0.3541 - accuracy: 0.8582 - val_loss: 0.2607 - val_accuracy: 0.9088\n",
      "Epoch 2/15\n",
      "14038/14038 [==============================] - 111s 8ms/sample - loss: 0.3180 - accuracy: 0.8750 - val_loss: 0.2263 - val_accuracy: 0.9173\n",
      "Epoch 3/15\n",
      "14038/14038 [==============================] - 111s 8ms/sample - loss: 0.2784 - accuracy: 0.8921 - val_loss: 0.2044 - val_accuracy: 0.9240\n",
      "Epoch 4/15\n",
      "14038/14038 [==============================] - 111s 8ms/sample - loss: 0.2506 - accuracy: 0.9006 - val_loss: 0.2347 - val_accuracy: 0.9139\n",
      "Epoch 5/15\n",
      "14038/14038 [==============================] - 111s 8ms/sample - loss: 0.2265 - accuracy: 0.9143 - val_loss: 0.2056 - val_accuracy: 0.9277\n",
      "Epoch 6/15\n",
      "14038/14038 [==============================] - 111s 8ms/sample - loss: 0.2046 - accuracy: 0.9224 - val_loss: 0.1970 - val_accuracy: 0.9277\n",
      "Epoch 7/15\n",
      "14038/14038 [==============================] - 111s 8ms/sample - loss: 0.1903 - accuracy: 0.9263 - val_loss: 0.1823 - val_accuracy: 0.9358\n",
      "Epoch 8/15\n",
      "14038/14038 [==============================] - 111s 8ms/sample - loss: 0.1727 - accuracy: 0.9342 - val_loss: 0.1968 - val_accuracy: 0.9314\n",
      "Epoch 9/15\n",
      "14038/14038 [==============================] - 111s 8ms/sample - loss: 0.1595 - accuracy: 0.9406 - val_loss: 0.1962 - val_accuracy: 0.9391\n",
      "Epoch 10/15\n",
      "14038/14038 [==============================] - 111s 8ms/sample - loss: 0.1442 - accuracy: 0.9473 - val_loss: 0.1873 - val_accuracy: 0.9398\n",
      "Epoch 11/15\n",
      "14038/14038 [==============================] - 111s 8ms/sample - loss: 0.1315 - accuracy: 0.9496 - val_loss: 0.2041 - val_accuracy: 0.9314\n",
      "Epoch 12/15\n",
      "14038/14038 [==============================] - 111s 8ms/sample - loss: 0.1246 - accuracy: 0.9520 - val_loss: 0.1971 - val_accuracy: 0.9358\n",
      "Epoch 13/15\n",
      "14038/14038 [==============================] - 111s 8ms/sample - loss: 0.1075 - accuracy: 0.9598 - val_loss: 0.2156 - val_accuracy: 0.9327\n",
      "Epoch 14/15\n",
      "14038/14038 [==============================] - 111s 8ms/sample - loss: 0.1087 - accuracy: 0.9598 - val_loss: 0.1984 - val_accuracy: 0.9374\n",
      "Epoch 15/15\n",
      "14038/14038 [==============================] - 111s 8ms/sample - loss: 0.1007 - accuracy: 0.9624 - val_loss: 0.2371 - val_accuracy: 0.9300\n"
     ]
    },
    {
     "data": {
      "text/plain": [
       "<tensorflow.python.keras.callbacks.History at 0x1a8b7989d0>"
      ]
     },
     "execution_count": 113,
     "metadata": {},
     "output_type": "execute_result"
    }
   ],
   "source": [
    "model_new.fit(input_train, label_train,\n",
    "            batch_size=batch_size,\n",
    "            epochs=15,\n",
    "            verbose=verbosity,\n",
    "            validation_data=(input_val, label_val))"
   ]
  },
  {
   "cell_type": "code",
   "execution_count": 114,
   "metadata": {
    "scrolled": true
   },
   "outputs": [
    {
     "data": {
      "text/plain": [
       "<matplotlib.axes._subplots.AxesSubplot at 0x1a8b7e9450>"
      ]
     },
     "execution_count": 114,
     "metadata": {},
     "output_type": "execute_result"
    },
    {
     "data": {
      "image/png": "[encoded data removed]",
      "text/plain": [
       "<Figure size 432x288 with 1 Axes>"
      ]
     },
     "metadata": {
      "needs_background": "light"
     },
     "output_type": "display_data"
    }
   ],
   "source": [
    "pd.DataFrame(model_new.history.history).plot()"
   ]
  },
  {
   "cell_type": "code",
   "execution_count": 115,
   "metadata": {},
   "outputs": [
    {
     "name": "stdout",
     "output_type": "stream",
     "text": [
      "Test loss: 0.08116494042230622 / Test accuracy: 0.9764547348022461\n",
      "[[2694   47]\n",
      " [  23  209]]\n",
      "              precision    recall  f1-score   support\n",
      "\n",
      "         0.0       0.99      0.98      0.99      2741\n",
      "         1.0       0.82      0.90      0.86       232\n",
      "\n",
      "    accuracy                           0.98      2973\n",
      "   macro avg       0.90      0.94      0.92      2973\n",
      "weighted avg       0.98      0.98      0.98      2973\n",
      "\n"
     ]
    }
   ],
   "source": [
    "from sklearn.metrics import confusion_matrix, classification_report\n",
    "\n",
    "score = model_new.evaluate(input_test, label_test, verbose=0)\n",
    "print(f'Test loss: {score[0]} / Test accuracy: {score[1]}')\n",
    "\n",
    "preds = model_new.predict_classes(input_test)\n",
    "print(confusion_matrix(label_test, preds))\n",
    "print(classification_report(label_test, preds))"
   ]
  }
 ],
 "metadata": {
  "kernelspec": {
   "display_name": "Python 3",
   "language": "python",
   "name": "python3"
  },
  "language_info": {
   "codemirror_mode": {
    "name": "ipython",
    "version": 3
   },
   "file_extension": ".py",
   "mimetype": "text/x-python",
   "name": "python",
   "nbconvert_exporter": "python",
   "pygments_lexer": "ipython3",
   "version": "3.7.7"
  }
 },
 "nbformat": 4,
 "nbformat_minor": 4
}
