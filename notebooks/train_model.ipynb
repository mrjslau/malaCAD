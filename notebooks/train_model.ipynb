{
 "cells": [
  {
   "cell_type": "code",
   "execution_count": 12,
   "metadata": {},
   "outputs": [],
   "source": [
    "import numpy as np\n",
    "import pandas as pd\n",
    "import os\n",
    "import SimpleITK as sitk\n",
    "from glob import glob\n",
    "\n",
    "import matplotlib.pyplot as plt"
   ]
  },
  {
   "cell_type": "markdown",
   "metadata": {},
   "source": [
    "### read annotations.csv and candidates.csv // paths"
   ]
  },
  {
   "cell_type": "code",
   "execution_count": 13,
   "metadata": {},
   "outputs": [],
   "source": [
    "data_path = '../dataset/'\n",
    "SET_DIR = '../sets/base/'\n",
    "TRAIN_IMG_DIR = SET_DIR + 'nodules/train/'\n",
    "TEST_IMG_DIR = SET_DIR + 'nodules/test/'\n",
    "VAL_IMG_DIR = SET_DIR + 'nodules/val/'\n",
    "IMG_PREF = 'nodule_'\n",
    "IMG_EXT = '.jpg'\n",
    "\n",
    "annot_df = pd.read_csv(data_path + 'CSVFILES/annotations.csv')\n",
    "cand_df = pd.read_csv(data_path + 'CSVFILES/candidates.csv')"
   ]
  },
  {
   "cell_type": "code",
   "execution_count": 14,
   "metadata": {},
   "outputs": [
    {
     "name": "stdout",
     "output_type": "stream",
     "text": [
      "1351\n",
      "549714\n"
     ]
    }
   ],
   "source": [
    "pos_ind = cand_df[cand_df['class'] == 1].index\n",
    "neg_ind = cand_df[cand_df['class'] == 0].index \n",
    "\n",
    "print(len(pos_ind))\n",
    "print(len(neg_ind))"
   ]
  },
  {
   "cell_type": "markdown",
   "metadata": {},
   "source": [
    "### change set size here"
   ]
  },
  {
   "cell_type": "code",
   "execution_count": null,
   "metadata": {},
   "outputs": [],
   "source": []
  },
  {
   "cell_type": "code",
   "execution_count": null,
   "metadata": {},
   "outputs": [],
   "source": []
  },
  {
   "cell_type": "code",
   "execution_count": null,
   "metadata": {},
   "outputs": [],
   "source": []
  },
  {
   "cell_type": "markdown",
   "metadata": {},
   "source": [
    "### read pickle"
   ]
  },
  {
   "cell_type": "code",
   "execution_count": 15,
   "metadata": {},
   "outputs": [],
   "source": [
    "X_train = pd.read_pickle(SET_DIR + 'pickle/traindata')\n",
    "X_test = pd.read_pickle(SET_DIR + 'pickle/testdata')\n",
    "X_val = pd.read_pickle(SET_DIR + 'pickle/valdata')\n",
    "y_train = pd.read_pickle(SET_DIR + 'pickle/trainlabels')\n",
    "y_test = pd.read_pickle(SET_DIR + 'pickle/testlabels')\n",
    "y_val = pd.read_pickle(SET_DIR + 'pickle/vallabels')"
   ]
  },
  {
   "cell_type": "code",
   "execution_count": 16,
   "metadata": {},
   "outputs": [
    {
     "name": "stdout",
     "output_type": "stream",
     "text": [
      "TRAINING DATA\n",
      "Total examples:  11888\n",
      "Total positives:  1075\n",
      "9.04 %\n"
     ]
    }
   ],
   "source": [
    "print('TRAINING DATA')\n",
    "print('Total examples: ', len(y_train))\n",
    "print('Total positives: ', y_train.sum())\n",
    "print(format((y_train.sum() / len(y_train)) * 100, '.2f'), '%')"
   ]
  },
  {
   "cell_type": "markdown",
   "metadata": {},
   "source": [
    "### create h5py files"
   ]
  },
  {
   "cell_type": "code",
   "execution_count": 17,
   "metadata": {},
   "outputs": [],
   "source": [
    "import h5py\n",
    "import PIL"
   ]
  },
  {
   "cell_type": "code",
   "execution_count": 26,
   "metadata": {},
   "outputs": [],
   "source": [
    "def create_h5py(mode):\n",
    "    if mode == 'train':\n",
    "        X = X_train\n",
    "        y = y_train\n",
    "        DIR = TRAIN_IMG_DIR\n",
    "    elif mode == 'test':\n",
    "        X = X_test\n",
    "        y = y_test\n",
    "        DIR = TEST_IMG_DIR\n",
    "    elif mode == 'val':\n",
    "        X = X_val\n",
    "        y = y_val\n",
    "        DIR = VAL_IMG_DIR\n",
    "    \n",
    "    f = h5py.File('../h5py/malaCAD' + mode + '.hdf5', 'w')\n",
    "    \n",
    "    # Create classes (labels) dataset\n",
    "    f.create_dataset(mode + '_labels', shape = (len(y),))\n",
    "    f[mode + '_labels'][...] = list(y)\n",
    "    \n",
    "    # Create images dataset\n",
    "    f.create_dataset(mode + '_img', shape = (len(X), 50, 50))\n",
    "    index = 0\n",
    "    for col in X.transpose():\n",
    "        image = PIL.Image.open(DIR + IMG_PREF + str(col) + IMG_EXT)\n",
    "        f[mode + '_img'][index, ...] = image\n",
    "        index += 1\n",
    "    \n",
    "    f.close()\n",
    "    \n",
    "    f = h5py.File('../h5py/malaCAD' + mode + '.hdf5', 'r')\n",
    "    X_ret = f[mode + '_img'] [...]\n",
    "    y_ret = f[mode + '_labels'][...]\n",
    "    f.close()\n",
    "    \n",
    "    return (X_ret, y_ret)"
   ]
  },
  {
   "cell_type": "code",
   "execution_count": 27,
   "metadata": {
    "scrolled": true
   },
   "outputs": [],
   "source": [
    "input_train, label_train = create_h5py('train')\n",
    "input_test, label_test = create_h5py('test')\n",
    "input_val, label_val = create_h5py('val')"
   ]
  },
  {
   "cell_type": "markdown",
   "metadata": {},
   "source": [
    "## CNN"
   ]
  },
  {
   "cell_type": "code",
   "execution_count": 29,
   "metadata": {},
   "outputs": [],
   "source": [
    "import os\n",
    "os.environ['KMP_DUPLICATE_LIB_OK']='True'"
   ]
  },
  {
   "cell_type": "code",
   "execution_count": 30,
   "metadata": {},
   "outputs": [],
   "source": [
    "from tensorflow.keras.models import Sequential\n",
    "from tensorflow.keras.layers import Dense, Flatten, Conv2D\n",
    "from tensorflow.keras.losses import sparse_categorical_crossentropy\n",
    "from tensorflow.keras.optimizers import Adam"
   ]
  },
  {
   "cell_type": "code",
   "execution_count": 35,
   "metadata": {},
   "outputs": [],
   "source": [
    "# Model configuration\n",
    "batch_size = 50\n",
    "img_width, img_height, img_num_channels = 50, 50, 1\n",
    "loss_function = sparse_categorical_crossentropy\n",
    "no_classes = 2\n",
    "no_epochs = 5\n",
    "optimizer = Adam()\n",
    "validation_split = 0.2\n",
    "verbosity = 1"
   ]
  },
  {
   "cell_type": "code",
   "execution_count": 36,
   "metadata": {},
   "outputs": [],
   "source": [
    "# Reshape data\n",
    "input_train = input_train.reshape(len(input_train), img_width, img_height, img_num_channels)\n",
    "input_test = input_test.reshape(len(input_test), img_width, img_height, img_num_channels)\n",
    "input_val = input_val.reshape(len(input_val), img_width, img_height, img_num_channels)\n",
    "\n",
    "input_shape = (img_width, img_height, img_num_channels)"
   ]
  },
  {
   "cell_type": "code",
   "execution_count": 41,
   "metadata": {},
   "outputs": [
    {
     "name": "stdout",
     "output_type": "stream",
     "text": [
      "11888\n",
      "2973\n",
      "2973\n"
     ]
    }
   ],
   "source": [
    "print(len(input_train))\n",
    "print(len(input_test))\n",
    "print(len(input_val))"
   ]
  },
  {
   "cell_type": "code",
   "execution_count": 37,
   "metadata": {},
   "outputs": [
    {
     "name": "stdout",
     "output_type": "stream",
     "text": [
      "Model: \"sequential_1\"\n",
      "_________________________________________________________________\n",
      "Layer (type)                 Output Shape              Param #   \n",
      "=================================================================\n",
      "conv2d_3 (Conv2D)            (None, 48, 48, 32)        320       \n",
      "_________________________________________________________________\n",
      "conv2d_4 (Conv2D)            (None, 46, 46, 64)        18496     \n",
      "_________________________________________________________________\n",
      "conv2d_5 (Conv2D)            (None, 44, 44, 128)       73856     \n",
      "_________________________________________________________________\n",
      "flatten_1 (Flatten)          (None, 247808)            0         \n",
      "_________________________________________________________________\n",
      "dense_2 (Dense)              (None, 128)               31719552  \n",
      "_________________________________________________________________\n",
      "dense_3 (Dense)              (None, 2)                 258       \n",
      "=================================================================\n",
      "Total params: 31,812,482\n",
      "Trainable params: 31,812,482\n",
      "Non-trainable params: 0\n",
      "_________________________________________________________________\n"
     ]
    }
   ],
   "source": [
    "# Create the model\n",
    "model = Sequential()\n",
    "model.add(Conv2D(32, kernel_size=(3, 3), activation='relu', input_shape = input_shape))\n",
    "model.add(Conv2D(64, kernel_size=(3, 3), activation='relu'))\n",
    "model.add(Conv2D(128, kernel_size=(3, 3), activation='relu'))\n",
    "model.add(Flatten())\n",
    "model.add(Dense(128, activation='relu'))\n",
    "model.add(Dense(no_classes, activation='softmax'))\n",
    "\n",
    "# Display a model summary\n",
    "model.summary()"
   ]
  },
  {
   "cell_type": "code",
   "execution_count": 38,
   "metadata": {},
   "outputs": [],
   "source": [
    "# Compile the model\n",
    "model.compile(loss=loss_function,\n",
    "              optimizer=optimizer,\n",
    "              metrics=['accuracy'])"
   ]
  },
  {
   "cell_type": "markdown",
   "metadata": {},
   "source": [
    "### train model"
   ]
  },
  {
   "cell_type": "code",
   "execution_count": 42,
   "metadata": {},
   "outputs": [
    {
     "name": "stdout",
     "output_type": "stream",
     "text": [
      "Train on 11888 samples, validate on 2973 samples\n",
      "Epoch 1/5\n",
      "11888/11888 [==============================] - 136s 11ms/sample - loss: 2.7443 - accuracy: 0.9069 - val_loss: 0.2335 - val_accuracy: 0.9169\n",
      "Epoch 2/5\n",
      "11888/11888 [==============================] - 134s 11ms/sample - loss: 0.1907 - accuracy: 0.9360 - val_loss: 0.2118 - val_accuracy: 0.9196\n",
      "Epoch 3/5\n",
      "11888/11888 [==============================] - 133s 11ms/sample - loss: 0.1360 - accuracy: 0.9547 - val_loss: 0.2364 - val_accuracy: 0.9216\n",
      "Epoch 4/5\n",
      "11888/11888 [==============================] - 134s 11ms/sample - loss: 0.1006 - accuracy: 0.9672 - val_loss: 0.3267 - val_accuracy: 0.9041\n",
      "Epoch 5/5\n",
      "11888/11888 [==============================] - 132s 11ms/sample - loss: 0.1095 - accuracy: 0.9605 - val_loss: 0.2992 - val_accuracy: 0.9119\n"
     ]
    },
    {
     "data": {
      "text/plain": [
       "<tensorflow.python.keras.callbacks.History at 0x68f34ba90>"
      ]
     },
     "execution_count": 42,
     "metadata": {},
     "output_type": "execute_result"
    }
   ],
   "source": [
    "model.fit(input_train, label_train,\n",
    "            batch_size=batch_size,\n",
    "            epochs=no_epochs,\n",
    "            verbose=verbosity,\n",
    "            validation_data=(input_val, label_val))"
   ]
  },
  {
   "cell_type": "code",
   "execution_count": 43,
   "metadata": {},
   "outputs": [
    {
     "data": {
      "text/plain": [
       "<matplotlib.axes._subplots.AxesSubplot at 0x6f93fffd0>"
      ]
     },
     "execution_count": 43,
     "metadata": {},
     "output_type": "execute_result"
    },
    {
     "data": {
      "image/png": "[encoded data removed]",
      "text/plain": [
       "<Figure size 432x288 with 1 Axes>"
      ]
     },
     "metadata": {
      "needs_background": "light"
     },
     "output_type": "display_data"
    }
   ],
   "source": [
    "pd.DataFrame(model.history.history).plot()"
   ]
  },
  {
   "cell_type": "markdown",
   "metadata": {},
   "source": [
    "### save model"
   ]
  },
  {
   "cell_type": "code",
   "execution_count": 44,
   "metadata": {},
   "outputs": [],
   "source": [
    "model.save('../models/new_cnn_model.h5')"
   ]
  },
  {
   "cell_type": "markdown",
   "metadata": {},
   "source": [
    "### predict"
   ]
  },
  {
   "cell_type": "code",
   "execution_count": 45,
   "metadata": {},
   "outputs": [
    {
     "name": "stdout",
     "output_type": "stream",
     "text": [
      "Test loss: 0.10158259495015182 / Test accuracy: 0.9707366228103638\n"
     ]
    }
   ],
   "source": [
    "score = model.evaluate(input_test, label_test, verbose=0)\n",
    "print(f'Test loss: {score[0]} / Test accuracy: {score[1]}')"
   ]
  },
  {
   "cell_type": "code",
   "execution_count": 46,
   "metadata": {},
   "outputs": [
    {
     "name": "stdout",
     "output_type": "stream",
     "text": [
      "[[2685   56]\n",
      " [  31  201]]\n",
      "              precision    recall  f1-score   support\n",
      "\n",
      "         0.0       0.99      0.98      0.98      2741\n",
      "         1.0       0.78      0.87      0.82       232\n",
      "\n",
      "    accuracy                           0.97      2973\n",
      "   macro avg       0.89      0.92      0.90      2973\n",
      "weighted avg       0.97      0.97      0.97      2973\n",
      "\n"
     ]
    }
   ],
   "source": [
    "from sklearn.metrics import confusion_matrix, classification_report\n",
    "\n",
    "preds = model.predict_classes(input_test)\n",
    "\n",
    "print(confusion_matrix(label_test, preds))\n",
    "print(classification_report(label_test, preds))"
   ]
  },
  {
   "cell_type": "code",
   "execution_count": null,
   "metadata": {},
   "outputs": [],
   "source": []
  }
 ],
 "metadata": {
  "kernelspec": {
   "display_name": "Python 3",
   "language": "python",
   "name": "python3"
  },
  "language_info": {
   "codemirror_mode": {
    "name": "ipython",
    "version": 3
   },
   "file_extension": ".py",
   "mimetype": "text/x-python",
   "name": "python",
   "nbconvert_exporter": "python",
   "pygments_lexer": "ipython3",
   "version": "3.7.7"
  }
 },
 "nbformat": 4,
 "nbformat_minor": 4
}
