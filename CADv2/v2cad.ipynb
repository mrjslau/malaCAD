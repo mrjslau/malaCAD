{
 "cells": [
  {
   "cell_type": "markdown",
   "metadata": {},
   "source": [
    "### import libraries"
   ]
  },
  {
   "cell_type": "code",
   "execution_count": 1,
   "metadata": {},
   "outputs": [],
   "source": [
    "import numpy as np\n",
    "import pandas as pd\n",
    "import os\n",
    "import glob\n",
    "import SimpleITK as sitk\n",
    "\n",
    "import matplotlib.pyplot as plt"
   ]
  },
  {
   "cell_type": "markdown",
   "metadata": {},
   "source": [
    "### read annotations.csv and candidates.csv // paths"
   ]
  },
  {
   "cell_type": "code",
   "execution_count": 108,
   "metadata": {},
   "outputs": [],
   "source": [
    "data_path = '../dataset/'\n",
    "TRAIN_IMG_DIR = '../img/train/'\n",
    "TEST_IMG_DIR = '../img/test/'\n",
    "IMG_PREF = 'image_'\n",
    "IMG_EXT = '.jpg'\n",
    "\n",
    "annot_df = pd.read_csv(data_path + 'CSVFILES/annotations.csv')\n",
    "cand_df = pd.read_csv(data_path + 'CSVFILES/candidates.csv')\n",
    "# candv2_df = pd.read_csv('./dataset/CSVFILES/candidates_V2.csv')"
   ]
  },
  {
   "cell_type": "markdown",
   "metadata": {},
   "source": [
    "### annotations.csv\n",
    "##### Samples:\n",
    "<b> 1186 </b> samples\n",
    "\n",
    "### candidates.csv\n",
    "##### Samples\n",
    "<b> 1351 </b> TP in candidates.csv \n",
    "|| candidates have <b> 551065 </b> samples\n",
    "\n",
    "\n",
    "<b> 1557 </b> TP in candidates_V2.csv \n",
    "|| candidates_V2 have <b> 754975 </b> samples"
   ]
  },
  {
   "cell_type": "markdown",
   "metadata": {},
   "source": [
    "### process CT scan"
   ]
  },
  {
   "cell_type": "code",
   "execution_count": 6,
   "metadata": {},
   "outputs": [],
   "source": [
    "class CT(object):\n",
    "    def __init__(self, filename = None, coordinates = None):\n",
    "        self.filename = filename\n",
    "        self.coordinates = coordinates\n",
    "        self.itk_img = None\n",
    "        self.img_arr = None\n",
    "        \n",
    "    # Read .mhd/.raw with SimpleITK\n",
    "    def read_mhd(self):\n",
    "        path = self.get_mhd_path()\n",
    "        self.itk_img = sitk.ReadImage(path[0])\n",
    "        self.img_arr = sitk.GetArrayFromImage(self.itk_img)\n",
    "         \n",
    "    def get_mhd_path(self):\n",
    "        return glob.glob(data_path + '*/' + self.filename + '.mhd')\n",
    "    \n",
    "    # Get voxel coordinates\n",
    "    def get_voxel(self):\n",
    "        origin = self.get_origin()\n",
    "        spacing = self.get_spacing()\n",
    "        coordinates = self.get_coordinates()\n",
    "        return tuple([np.absolute(coordinates[i] - origin[i]) / spacing[i] for i in range(3)])\n",
    "    \n",
    "    def get_coordinates(self):\n",
    "        return self.coordinates\n",
    "    \n",
    "    def get_origin(self):\n",
    "        return self.itk_img.GetOrigin()\n",
    "    \n",
    "    def get_spacing(self):\n",
    "        return self.itk_img.GetSpacing()\n",
    "    \n",
    "    def get_itk_img(self):\n",
    "        return self.itk_img\n",
    "    \n",
    "    def get_image_array(self):\n",
    "        return self.img_arr"
   ]
  },
  {
   "cell_type": "markdown",
   "metadata": {},
   "source": [
    "<b> Spacing </b><br> Pixel spacing is measured between the pixel centers <br> and can be different along each dimension\n",
    "\n",
    "<b> Origin </b><br> The image origin is associated with the coordinates <br> of the first pixel in the image\n",
    "\n",
    "<b> Voxel </b><br> Voxel coordinates ... <br> ..."
   ]
  },
  {
   "cell_type": "code",
   "execution_count": 7,
   "metadata": {},
   "outputs": [],
   "source": [
    "pos_ind = cand_df[cand_df['class'] == 1].index # 1351 positives\n",
    "neg_ind = cand_df[cand_df['class'] == 0].index # 549714 negatives"
   ]
  },
  {
   "cell_type": "markdown",
   "metadata": {},
   "source": [
    "### undersample negative class"
   ]
  },
  {
   "cell_type": "code",
   "execution_count": 8,
   "metadata": {
    "scrolled": true
   },
   "outputs": [
    {
     "name": "stdout",
     "output_type": "stream",
     "text": [
      "<class 'pandas.core.frame.DataFrame'>\n",
      "Int64Index: 8106 entries, 13 to 9679\n",
      "Data columns (total 5 columns):\n",
      " #   Column     Non-Null Count  Dtype  \n",
      "---  ------     --------------  -----  \n",
      " 0   seriesuid  8106 non-null   object \n",
      " 1   coordX     8106 non-null   float64\n",
      " 2   coordY     8106 non-null   float64\n",
      " 3   coordZ     8106 non-null   float64\n",
      " 4   class      8106 non-null   int64  \n",
      "dtypes: float64(3), int64(1), object(1)\n",
      "memory usage: 380.0+ KB\n"
     ]
    }
   ],
   "source": [
    "np.random.seed(42)\n",
    "# Take negative samples only 5 times the size of positive samples\n",
    "neg_ind = np.random.choice(neg_ind, len(pos_ind) * 5 , replace = False)\n",
    "selected_cand_df = cand_df.iloc[list(pos_ind) + list(neg_ind)]\n",
    "\n",
    "# 1351 positive samples (16.66%)\n",
    "# 6755 negative samples (83.33%)\n",
    "selected_cand_df.info()"
   ]
  },
  {
   "cell_type": "markdown",
   "metadata": {},
   "source": [
    "### split to train test val "
   ]
  },
  {
   "cell_type": "code",
   "execution_count": 13,
   "metadata": {},
   "outputs": [],
   "source": [
    "from sklearn.model_selection import train_test_split\n",
    "\n",
    "X = selected_cand_df.iloc[:, :-1]\n",
    "y = selected_cand_df.iloc[:, -1]\n",
    "\n",
    "X_train, X_test, y_train, y_test = train_test_split(X, y, test_size = 0.20, random_state = 42)\n",
    "X_train, X_val, y_train, y_val = train_test_split(X_train, y_train, test_size = 0.20, random_state = 42)"
   ]
  },
  {
   "cell_type": "markdown",
   "metadata": {},
   "source": [
    "<b> Serialize and save data </b>"
   ]
  },
  {
   "cell_type": "code",
   "execution_count": 15,
   "metadata": {},
   "outputs": [],
   "source": [
    "X_train.to_pickle('./pickle/traindata')\n",
    "X_val.to_pickle('./pickle/valdata')\n",
    "X_test.to_pickle('./pickle/testdata')"
   ]
  },
  {
   "cell_type": "markdown",
   "metadata": {},
   "source": [
    "### get proportions"
   ]
  },
  {
   "cell_type": "code",
   "execution_count": 16,
   "metadata": {},
   "outputs": [
    {
     "name": "stdout",
     "output_type": "stream",
     "text": [
      "TRAINING DATA\n",
      "Total examples:  5187\n",
      "Total positives:  845\n",
      "16.29 %\n"
     ]
    }
   ],
   "source": [
    "print('TRAINING DATA')\n",
    "print('Total examples: ', len(y_train))\n",
    "print('Total positives: ', y_train.sum())\n",
    "print(format((y_train.sum() / len(y_train)) * 100, '.2f'), '%')"
   ]
  },
  {
   "cell_type": "markdown",
   "metadata": {},
   "source": [
    "### augment data set\n",
    "\n",
    "<b> Add all the true positive cases two more times </b>\n",
    "\n",
    "* DF use .set_index\n",
    "* Series use .reindex"
   ]
  },
  {
   "cell_type": "code",
   "execution_count": 21,
   "metadata": {
    "scrolled": true
   },
   "outputs": [],
   "source": [
    "# Augment X set ----------------------\n",
    "# 1 pass -----------------------------\n",
    "# take positives\n",
    "temp_df = X_train[y_train == 1]\n",
    "# reindex positives\n",
    "temp_df = temp_df.set_index(temp_df.index + 1000000)\n",
    "# add new positives\n",
    "X_train_aug = X_train.append(temp_df)\n",
    "\n",
    "# 2 pass -----------------------------\n",
    "temp_df = X_train[y_train == 1]\n",
    "temp_df = temp_df.set_index(temp_df.index + 2000000)\n",
    "X_train_aug = X_train_aug.append(temp_df)\n",
    "\n",
    "\n",
    "# Augment y set ----------------------\n",
    "# 1 pass -----------------------------\n",
    "# take positives\n",
    "temp_df = X_train[y_train == 1]\n",
    "# reindex positives\n",
    "temp_df = y_train.reindex(temp_df.index + 1000000)\n",
    "# set all series values to 1\n",
    "temp_df.loc[:] = 1\n",
    "# add new positives\n",
    "y_train_aug = y_train.append(temp_df)\n",
    "\n",
    "# 2 pass -----------------------------\n",
    "temp_df = X_train[y_train == 1]\n",
    "temp_df = y_train.reindex(temp_df.index + 2000000)\n",
    "temp_df.loc[:] = 1\n",
    "y_train_aug = y_train_aug.append(temp_df)"
   ]
  },
  {
   "cell_type": "code",
   "execution_count": 22,
   "metadata": {},
   "outputs": [
    {
     "name": "stdout",
     "output_type": "stream",
     "text": [
      "TRAINING DATA\n",
      "Total examples:  6877\n",
      "Total positives:  2535.0\n",
      "36.86 %\n"
     ]
    }
   ],
   "source": [
    "print('TRAINING DATA')\n",
    "print('Total examples: ', len(y_train_aug))\n",
    "print('Total positives: ', y_train_aug.sum())\n",
    "print(format((y_train_aug.sum() / len(y_train_aug)) * 100, '.2f'), '%')"
   ]
  },
  {
   "cell_type": "markdown",
   "metadata": {},
   "source": [
    "-----"
   ]
  },
  {
   "cell_type": "markdown",
   "metadata": {},
   "source": [
    "### plot image"
   ]
  },
  {
   "cell_type": "code",
   "execution_count": 25,
   "metadata": {},
   "outputs": [
    {
     "data": {
      "text/plain": [
       "<matplotlib.image.AxesImage at 0x1a2b66c4d0>"
      ]
     },
     "execution_count": 25,
     "metadata": {},
     "output_type": "execute_result"
    },
    {
     "data": {
      "image/png": "[encoded data removed]",
      "text/plain": [
       "<Figure size 360x360 with 1 Axes>"
      ]
     },
     "metadata": {
      "needs_background": "light"
     },
     "output_type": "display_data"
    }
   ],
   "source": [
    "from imageio import imread\n",
    "\n",
    "plt.figure(figsize = (5, 5))\n",
    "img = imread(TRAIN_IMG_DIR + IMG_PREF + str(30517) + IMG_EXT)\n",
    "plt.imshow(img, cmap='gray')"
   ]
  },
  {
   "cell_type": "markdown",
   "metadata": {},
   "source": [
    "----"
   ]
  },
  {
   "cell_type": "markdown",
   "metadata": {},
   "source": [
    "### create h5py file with images and classes"
   ]
  },
  {
   "cell_type": "code",
   "execution_count": 85,
   "metadata": {},
   "outputs": [],
   "source": [
    "import h5py\n",
    "import PIL"
   ]
  },
  {
   "cell_type": "markdown",
   "metadata": {},
   "source": [
    "#### train dataset"
   ]
  },
  {
   "cell_type": "code",
   "execution_count": 86,
   "metadata": {
    "scrolled": true
   },
   "outputs": [],
   "source": [
    "f = h5py.File('./h5py/malaCADtrain.hdf5', 'w')\n",
    "\n",
    "# Create classes dataset\n",
    "f.create_dataset('train_labels', shape = (len(y_train_new),))\n",
    "f['train_labels'][...] = list(y_train_new)\n",
    "\n",
    "# Create images dataset\n",
    "f.create_dataset('train_img', shape = (len(X_train_new), 50, 50))\n",
    "index = 0\n",
    "for col in X_train_new.transpose():\n",
    "    image = PIL.Image.open(TRAIN_IMG_DIR + IMG_PREF + str(col) + IMG_EXT)\n",
    "    # print(str(index) + ' - ' + str(col) + ' - ' + str(image.size))\n",
    "    f['train_img'][index, ...] = image\n",
    "    index += 1\n",
    "    \n",
    "f.close()"
   ]
  },
  {
   "cell_type": "code",
   "execution_count": 87,
   "metadata": {},
   "outputs": [],
   "source": [
    "f = h5py.File('./h5py/malaCADtrain.hdf5', 'r')\n",
    "\n",
    "input_train = f['train_img'] [...]\n",
    "label_train = f['train_labels'][...]\n",
    "f.close()"
   ]
  },
  {
   "cell_type": "markdown",
   "metadata": {},
   "source": [
    "#### test dataset"
   ]
  },
  {
   "cell_type": "code",
   "execution_count": 112,
   "metadata": {},
   "outputs": [],
   "source": [
    "f = h5py.File('./h5py/malaCADtest.hdf5', 'w')\n",
    "\n",
    "# Create classes dataset\n",
    "f.create_dataset('test_labels', shape = (len(y_test),))\n",
    "f['test_labels'][...] = list(y_test)\n",
    "\n",
    "# Create images dataset\n",
    "f.create_dataset('test_img', shape = (len(X_test), 50, 50))\n",
    "index = 0\n",
    "for col in X_test.transpose():\n",
    "    image = PIL.Image.open(TEST_IMG_DIR + IMG_PREF + str(col) + IMG_EXT)\n",
    "    # print(str(index) + ' - ' + str(col) + ' - ' + str(image.size))\n",
    "    f['test_img'][index, ...] = image\n",
    "    index += 1\n",
    "    \n",
    "f.close()"
   ]
  },
  {
   "cell_type": "code",
   "execution_count": 113,
   "metadata": {},
   "outputs": [],
   "source": [
    "f = h5py.File('./h5py/malaCADtest.hdf5', 'r')\n",
    "\n",
    "input_test = f['test_img'] [...]\n",
    "label_test = f['test_labels'][...]\n",
    "f.close()"
   ]
  },
  {
   "cell_type": "markdown",
   "metadata": {},
   "source": [
    "----"
   ]
  },
  {
   "cell_type": "markdown",
   "metadata": {},
   "source": [
    "## create and config model"
   ]
  },
  {
   "cell_type": "code",
   "execution_count": 100,
   "metadata": {},
   "outputs": [],
   "source": [
    "import os\n",
    "os.environ['KMP_DUPLICATE_LIB_OK']='True'"
   ]
  },
  {
   "cell_type": "code",
   "execution_count": 90,
   "metadata": {},
   "outputs": [],
   "source": [
    "from tensorflow.keras.models import Sequential\n",
    "from tensorflow.keras.layers import Dense, Flatten, Conv2D\n",
    "from tensorflow.keras.losses import sparse_categorical_crossentropy\n",
    "from tensorflow.keras.optimizers import Adam"
   ]
  },
  {
   "cell_type": "code",
   "execution_count": 92,
   "metadata": {},
   "outputs": [],
   "source": [
    "# Model configuration\n",
    "batch_size = 50\n",
    "img_width, img_height, img_num_channels = 50, 50, 1\n",
    "loss_function = sparse_categorical_crossentropy\n",
    "no_classes = 2\n",
    "no_epochs = 5\n",
    "optimizer = Adam()\n",
    "validation_split = 0.2\n",
    "verbosity = 1"
   ]
  },
  {
   "cell_type": "code",
   "execution_count": 114,
   "metadata": {},
   "outputs": [],
   "source": [
    "# Reshape data\n",
    "input_train = input_train.reshape(len(input_train), img_width, img_height, img_num_channels)\n",
    "input_test = input_test.reshape(len(input_test), img_width, img_height, img_num_channels)\n",
    "\n",
    "input_shape = (img_width, img_height, img_num_channels)"
   ]
  },
  {
   "cell_type": "code",
   "execution_count": 96,
   "metadata": {},
   "outputs": [
    {
     "name": "stdout",
     "output_type": "stream",
     "text": [
      "Model: \"sequential_1\"\n",
      "_________________________________________________________________\n",
      "Layer (type)                 Output Shape              Param #   \n",
      "=================================================================\n",
      "conv2d (Conv2D)              (None, 48, 48, 32)        320       \n",
      "_________________________________________________________________\n",
      "conv2d_1 (Conv2D)            (None, 46, 46, 64)        18496     \n",
      "_________________________________________________________________\n",
      "conv2d_2 (Conv2D)            (None, 44, 44, 128)       73856     \n",
      "_________________________________________________________________\n",
      "flatten (Flatten)            (None, 247808)            0         \n",
      "_________________________________________________________________\n",
      "dense (Dense)                (None, 128)               31719552  \n",
      "_________________________________________________________________\n",
      "dense_1 (Dense)              (None, 2)                 258       \n",
      "=================================================================\n",
      "Total params: 31,812,482\n",
      "Trainable params: 31,812,482\n",
      "Non-trainable params: 0\n",
      "_________________________________________________________________\n"
     ]
    }
   ],
   "source": [
    "# Create the model\n",
    "model = Sequential()\n",
    "model.add(Conv2D(32, kernel_size=(3, 3), activation='relu', input_shape = input_shape))\n",
    "model.add(Conv2D(64, kernel_size=(3, 3), activation='relu'))\n",
    "model.add(Conv2D(128, kernel_size=(3, 3), activation='relu'))\n",
    "model.add(Flatten())\n",
    "model.add(Dense(128, activation='relu'))\n",
    "model.add(Dense(no_classes, activation='softmax'))\n",
    "\n",
    "# Compile the model\n",
    "model.compile(loss=loss_function,\n",
    "              optimizer=optimizer,\n",
    "              metrics=['accuracy'])\n",
    "\n",
    "# Display a model summary\n",
    "model.summary()"
   ]
  },
  {
   "cell_type": "markdown",
   "metadata": {},
   "source": [
    "### fit model"
   ]
  },
  {
   "cell_type": "code",
   "execution_count": 97,
   "metadata": {},
   "outputs": [
    {
     "name": "stdout",
     "output_type": "stream",
     "text": [
      "Train on 5501 samples, validate on 1376 samples\n",
      "Epoch 1/5\n",
      "5501/5501 [==============================] - 62s 11ms/sample - loss: 31.2617 - accuracy: 0.7853 - val_loss: 1.3232 - val_accuracy: 0.3358\n",
      "Epoch 2/5\n",
      "5501/5501 [==============================] - 62s 11ms/sample - loss: 0.4346 - accuracy: 0.8355 - val_loss: 1.0953 - val_accuracy: 0.4608\n",
      "Epoch 3/5\n",
      "5501/5501 [==============================] - 61s 11ms/sample - loss: 0.3490 - accuracy: 0.8671 - val_loss: 1.3542 - val_accuracy: 0.3118\n",
      "Epoch 4/5\n",
      "5501/5501 [==============================] - 61s 11ms/sample - loss: 0.3121 - accuracy: 0.8740 - val_loss: 1.0675 - val_accuracy: 0.4804\n",
      "Epoch 5/5\n",
      "5501/5501 [==============================] - 63s 11ms/sample - loss: 0.2534 - accuracy: 0.9044 - val_loss: 1.5436 - val_accuracy: 0.4092\n"
     ]
    }
   ],
   "source": [
    "# Fit data to model\n",
    "history = model.fit(input_train, label_train,\n",
    "            batch_size=batch_size,\n",
    "            epochs=no_epochs,\n",
    "            verbose=verbosity,\n",
    "            validation_split=validation_split)"
   ]
  },
  {
   "cell_type": "code",
   "execution_count": 99,
   "metadata": {},
   "outputs": [],
   "source": [
    "model.save('first_cnn_model.h5')"
   ]
  },
  {
   "cell_type": "markdown",
   "metadata": {},
   "source": [
    "### predict"
   ]
  },
  {
   "cell_type": "code",
   "execution_count": 115,
   "metadata": {
    "scrolled": true
   },
   "outputs": [
    {
     "name": "stdout",
     "output_type": "stream",
     "text": [
      "Test loss: 0.42157794408380767 / Test accuracy: 0.8569667339324951\n"
     ]
    }
   ],
   "source": [
    "score = model.evaluate(input_test, label_test, verbose=0)\n",
    "print(f'Test loss: {score[0]} / Test accuracy: {score[1]}')"
   ]
  },
  {
   "cell_type": "code",
   "execution_count": 117,
   "metadata": {},
   "outputs": [],
   "source": [
    "preds = model.predict_classes(input_test)"
   ]
  },
  {
   "cell_type": "code",
   "execution_count": 118,
   "metadata": {
    "scrolled": false
   },
   "outputs": [
    {
     "name": "stdout",
     "output_type": "stream",
     "text": [
      "[[1269   71]\n",
      " [ 161  121]]\n",
      "              precision    recall  f1-score   support\n",
      "\n",
      "         0.0       0.89      0.95      0.92      1340\n",
      "         1.0       0.63      0.43      0.51       282\n",
      "\n",
      "    accuracy                           0.86      1622\n",
      "   macro avg       0.76      0.69      0.71      1622\n",
      "weighted avg       0.84      0.86      0.85      1622\n",
      "\n"
     ]
    }
   ],
   "source": [
    "from sklearn.metrics import confusion_matrix, classification_report\n",
    "\n",
    "print(confusion_matrix(label_test, preds))\n",
    "print(classification_report(label_test, preds))"
   ]
  },
  {
   "cell_type": "markdown",
   "metadata": {},
   "source": [
    "---\n",
    "## 2nd pass"
   ]
  },
  {
   "cell_type": "code",
   "execution_count": 119,
   "metadata": {},
   "outputs": [
    {
     "name": "stdout",
     "output_type": "stream",
     "text": [
      "Train on 5501 samples, validate on 1376 samples\n",
      "Epoch 1/20\n",
      "5501/5501 [==============================] - 61s 11ms/sample - loss: 0.1803 - accuracy: 0.9318 - val_loss: 1.4949 - val_accuracy: 0.5581\n",
      "Epoch 2/20\n",
      "5501/5501 [==============================] - 61s 11ms/sample - loss: 0.1399 - accuracy: 0.9484 - val_loss: 1.9399 - val_accuracy: 0.5603\n",
      "Epoch 3/20\n",
      "5501/5501 [==============================] - 62s 11ms/sample - loss: 0.0765 - accuracy: 0.9738 - val_loss: 2.5228 - val_accuracy: 0.5683\n",
      "Epoch 4/20\n",
      "5501/5501 [==============================] - 61s 11ms/sample - loss: 0.0416 - accuracy: 0.9869 - val_loss: 4.0340 - val_accuracy: 0.5007\n",
      "Epoch 5/20\n",
      "5501/5501 [==============================] - 61s 11ms/sample - loss: 0.0346 - accuracy: 0.9895 - val_loss: 3.5961 - val_accuracy: 0.5472\n",
      "Epoch 6/20\n",
      "5501/5501 [==============================] - 62s 11ms/sample - loss: 0.0524 - accuracy: 0.9805 - val_loss: 5.0075 - val_accuracy: 0.5131\n",
      "Epoch 7/20\n",
      "5501/5501 [==============================] - 62s 11ms/sample - loss: 0.0440 - accuracy: 0.9856 - val_loss: 4.6940 - val_accuracy: 0.5189\n",
      "Epoch 8/20\n",
      "5501/5501 [==============================] - 63s 11ms/sample - loss: 0.0254 - accuracy: 0.9913 - val_loss: 4.1228 - val_accuracy: 0.5501\n",
      "Epoch 9/20\n",
      "5501/5501 [==============================] - 63s 11ms/sample - loss: 0.0093 - accuracy: 0.9975 - val_loss: 6.7102 - val_accuracy: 0.4811\n",
      "Epoch 10/20\n",
      "5501/5501 [==============================] - 63s 11ms/sample - loss: 0.0483 - accuracy: 0.9873 - val_loss: 4.0913 - val_accuracy: 0.5291\n",
      "Epoch 11/20\n",
      "5501/5501 [==============================] - 62s 11ms/sample - loss: 0.0284 - accuracy: 0.9940 - val_loss: 3.9422 - val_accuracy: 0.5683\n",
      "Epoch 12/20\n",
      "5501/5501 [==============================] - 61s 11ms/sample - loss: 0.0138 - accuracy: 0.9964 - val_loss: 5.6045 - val_accuracy: 0.5247\n",
      "Epoch 13/20\n",
      "5501/5501 [==============================] - 61s 11ms/sample - loss: 0.0140 - accuracy: 0.9962 - val_loss: 6.2818 - val_accuracy: 0.5153\n",
      "Epoch 14/20\n",
      "5501/5501 [==============================] - 62s 11ms/sample - loss: 0.0024 - accuracy: 0.9996 - val_loss: 6.3180 - val_accuracy: 0.5501\n",
      "Epoch 15/20\n",
      "5501/5501 [==============================] - 61s 11ms/sample - loss: 7.9869e-04 - accuracy: 1.0000 - val_loss: 6.2994 - val_accuracy: 0.5487\n",
      "Epoch 16/20\n",
      "5501/5501 [==============================] - 61s 11ms/sample - loss: 3.4419e-04 - accuracy: 1.0000 - val_loss: 6.6540 - val_accuracy: 0.5509\n",
      "Epoch 17/20\n",
      "5501/5501 [==============================] - 61s 11ms/sample - loss: 2.3972e-04 - accuracy: 1.0000 - val_loss: 6.8977 - val_accuracy: 0.5501\n",
      "Epoch 18/20\n",
      "5501/5501 [==============================] - 61s 11ms/sample - loss: 1.8335e-04 - accuracy: 1.0000 - val_loss: 7.0528 - val_accuracy: 0.5523\n",
      "Epoch 19/20\n",
      "5501/5501 [==============================] - 62s 11ms/sample - loss: 1.4535e-04 - accuracy: 1.0000 - val_loss: 7.2510 - val_accuracy: 0.5509\n",
      "Epoch 20/20\n",
      "5501/5501 [==============================] - 62s 11ms/sample - loss: 1.1996e-04 - accuracy: 1.0000 - val_loss: 7.3908 - val_accuracy: 0.5487\n"
     ]
    }
   ],
   "source": [
    "# Model configuration\n",
    "batch_size = 50\n",
    "img_width, img_height, img_num_channels = 50, 50, 1\n",
    "loss_function = sparse_categorical_crossentropy\n",
    "no_classes = 2\n",
    "no_epochs = 20\n",
    "optimizer = Adam()\n",
    "validation_split = 0.2\n",
    "verbosity = 1\n",
    "\n",
    "# Fit data to model\n",
    "history = model.fit(input_train, label_train,\n",
    "            batch_size=batch_size,\n",
    "            epochs=no_epochs,\n",
    "            verbose=verbosity,\n",
    "            validation_split=validation_split)"
   ]
  },
  {
   "cell_type": "code",
   "execution_count": 120,
   "metadata": {},
   "outputs": [
    {
     "name": "stdout",
     "output_type": "stream",
     "text": [
      "Test loss: 1.781258276152699 / Test accuracy: 0.8520345091819763\n"
     ]
    }
   ],
   "source": [
    "score = model.evaluate(input_test, label_test, verbose=0)\n",
    "print(f'Test loss: {score[0]} / Test accuracy: {score[1]}')"
   ]
  },
  {
   "cell_type": "code",
   "execution_count": 121,
   "metadata": {},
   "outputs": [
    {
     "name": "stdout",
     "output_type": "stream",
     "text": [
      "[[1227  113]\n",
      " [ 127  155]]\n",
      "              precision    recall  f1-score   support\n",
      "\n",
      "         0.0       0.91      0.92      0.91      1340\n",
      "         1.0       0.58      0.55      0.56       282\n",
      "\n",
      "    accuracy                           0.85      1622\n",
      "   macro avg       0.74      0.73      0.74      1622\n",
      "weighted avg       0.85      0.85      0.85      1622\n",
      "\n"
     ]
    }
   ],
   "source": [
    "preds = model.predict_classes(input_test)\n",
    "print(confusion_matrix(label_test, preds))\n",
    "print(classification_report(label_test, preds))"
   ]
  },
  {
   "cell_type": "markdown",
   "metadata": {},
   "source": [
    "## 3rd pass - less negatives"
   ]
  },
  {
   "cell_type": "code",
   "execution_count": null,
   "metadata": {},
   "outputs": [],
   "source": [
    "f = h5py.File('./h5py/malaCADtrain2nd.hdf5', 'w')\n",
    "\n",
    "# Create classes dataset\n",
    "f.create_dataset('train_labels', shape = (len(y_train_new),))\n",
    "f['train_labels'][...] = list(y_train_new)\n",
    "\n",
    "# Create images dataset\n",
    "f.create_dataset('train_img', shape = (len(X_train_new), 50, 50))\n",
    "index = 0\n",
    "for col in X_train_new.transpose():\n",
    "    image = PIL.Image.open(TRAIN_IMG_DIR + IMG_PREF + str(col) + IMG_EXT)\n",
    "    # print(str(index) + ' - ' + str(col) + ' - ' + str(image.size))\n",
    "    f['train_img'][index, ...] = image\n",
    "    index += 1\n",
    "    \n",
    "f.close()\n",
    "\n",
    "\n",
    "f = h5py.File('./h5py/malaCADtrain2nd.hdf5', 'r')\n",
    "input_train = f['train_img'] [...]\n",
    "label_train = f['train_labels'][...]\n",
    "f.close()\n",
    "\n",
    "\n",
    "# ---------------------------------------------------------------------\n",
    "f = h5py.File('./h5py/malaCADtest2nd.hdf5', 'w')\n",
    "\n",
    "# Create classes dataset\n",
    "f.create_dataset('test_labels', shape = (len(y_test),))\n",
    "f['test_labels'][...] = list(y_test)\n",
    "\n",
    "# Create images dataset\n",
    "f.create_dataset('test_img', shape = (len(X_test), 50, 50))\n",
    "index = 0\n",
    "for col in X_test.transpose():\n",
    "    image = PIL.Image.open(TEST_IMG_DIR + IMG_PREF + str(col) + IMG_EXT)\n",
    "    # print(str(index) + ' - ' + str(col) + ' - ' + str(image.size))\n",
    "    f['test_img'][index, ...] = image\n",
    "    index += 1\n",
    "    \n",
    "f.close()\n",
    "\n",
    "\n",
    "f = h5py.File('./h5py/malaCADtest2nd.hdf5', 'r')\n",
    "input_test = f['test_img'] [...]\n",
    "label_test = f['test_labels'][...]\n",
    "f.close()"
   ]
  }
 ],
 "metadata": {
  "kernelspec": {
   "display_name": "Python 3",
   "language": "python",
   "name": "python3"
  },
  "language_info": {
   "codemirror_mode": {
    "name": "ipython",
    "version": 3
   },
   "file_extension": ".py",
   "mimetype": "text/x-python",
   "name": "python",
   "nbconvert_exporter": "python",
   "pygments_lexer": "ipython3",
   "version": "3.7.7"
  }
 },
 "nbformat": 4,
 "nbformat_minor": 4
}
