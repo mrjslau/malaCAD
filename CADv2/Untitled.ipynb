{
 "cells": [
  {
   "cell_type": "code",
   "execution_count": 1,
   "metadata": {},
   "outputs": [],
   "source": [
    "import numpy as np\n",
    "import pandas as pd\n",
    "import os\n",
    "import glob\n",
    "import SimpleITK as sitk\n",
    "\n",
    "import matplotlib.pyplot as plt"
   ]
  },
  {
   "cell_type": "markdown",
   "metadata": {},
   "source": [
    "### read annotations.csv and candidates.csv // paths"
   ]
  },
  {
   "cell_type": "code",
   "execution_count": 2,
   "metadata": {},
   "outputs": [],
   "source": [
    "data_path = '../dataset/'\n",
    "TRAIN_IMG_DIR = '../img/train/'\n",
    "TEST_IMG_DIR = '../img/test/'\n",
    "IMG_PREF = 'image_'\n",
    "IMG_EXT = '.jpg'\n",
    "\n",
    "annot_df = pd.read_csv(data_path + 'CSVFILES/annotations.csv')\n",
    "cand_df = pd.read_csv(data_path + 'CSVFILES/candidates.csv')\n",
    "# candv2_df = pd.read_csv('./dataset/CSVFILES/candidates_V2.csv')"
   ]
  },
  {
   "cell_type": "code",
   "execution_count": 3,
   "metadata": {},
   "outputs": [],
   "source": [
    "pos_ind = cand_df[cand_df['class'] == 1].index\n",
    "neg_ind = cand_df[cand_df['class'] == 0].index "
   ]
  },
  {
   "cell_type": "code",
   "execution_count": 4,
   "metadata": {},
   "outputs": [
    {
     "data": {
      "text/plain": [
       "1351"
      ]
     },
     "execution_count": 4,
     "metadata": {},
     "output_type": "execute_result"
    }
   ],
   "source": [
    "len(pos_ind)"
   ]
  },
  {
   "cell_type": "code",
   "execution_count": 7,
   "metadata": {},
   "outputs": [],
   "source": [
    "np.random.seed(42)\n",
    "# Take negative samples only 5 times the size of positive samples\n",
    "neg_ind = np.random.choice(neg_ind, len(pos_ind) * 5 , replace = False)\n",
    "selected_cand_df = cand_df.iloc[list(pos_ind) + list(neg_ind)]\n",
    "\n",
    "# 1351 positive samples (16.66%)\n",
    "# 6755 negative samples (83.33%)\n",
    "selected_cand_df.info()"
   ]
  }
 ],
 "metadata": {
  "kernelspec": {
   "display_name": "Python 3",
   "language": "python",
   "name": "python3"
  },
  "language_info": {
   "codemirror_mode": {
    "name": "ipython",
    "version": 3
   },
   "file_extension": ".py",
   "mimetype": "text/x-python",
   "name": "python",
   "nbconvert_exporter": "python",
   "pygments_lexer": "ipython3",
   "version": "3.7.7"
  }
 },
 "nbformat": 4,
 "nbformat_minor": 4
}
